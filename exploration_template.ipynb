{
 "cells": [
  {
   "cell_type": "markdown",
   "metadata": {},
   "source": [
    "# San Francisco bike sharing system\n",
    "## by Javier Alonso\n",
    "\n",
    "## Preliminary Wrangling\n",
    "\n",
    "Esto es una prueba para GIT\n",
    "\n"
   ]
  },
  {
   "cell_type": "code",
   "execution_count": 1,
   "metadata": {},
   "outputs": [],
   "source": [
    "# import all packages and set plots to be embedded inline\n",
    "import numpy as np\n",
    "import pandas as pd\n",
    "import matplotlib.pyplot as plt\n",
    "import seaborn as sb\n",
    "\n",
    "%matplotlib inline"
   ]
  },
  {
   "cell_type": "markdown",
   "metadata": {},
   "source": [
    "### GATHERING DATA\n",
    "\n",
    ">In this section I will gather data from all the files available from years 2018 and 2019\n",
    "\n",
    "> First, I import the 2019 data"
   ]
  },
  {
   "cell_type": "code",
   "execution_count": 2,
   "metadata": {},
   "outputs": [
    {
     "name": "stderr",
     "output_type": "stream",
     "text": [
      "C:\\Users\\Telu Teruno\\Anaconda3\\lib\\site-packages\\IPython\\core\\interactiveshell.py:3058: DtypeWarning: Columns (14) have mixed types. Specify dtype option on import or set low_memory=False.\n",
      "  interactivity=interactivity, compiler=compiler, result=result)\n",
      "C:\\Users\\Telu Teruno\\Anaconda3\\lib\\site-packages\\IPython\\core\\interactiveshell.py:3058: DtypeWarning: Columns (13,14) have mixed types. Specify dtype option on import or set low_memory=False.\n",
      "  interactivity=interactivity, compiler=compiler, result=result)\n"
     ]
    }
   ],
   "source": [
    "df_1901 = pd.read_csv('201901-fordgobike-tripdata.csv')\n",
    "df_1902 = pd.read_csv('201902-fordgobike-tripdata.csv')\n",
    "df_1903 = pd.read_csv('201903-fordgobike-tripdata.csv')\n",
    "df_1904 = pd.read_csv('201904-fordgobike-tripdata.csv')\n",
    "df_1905 = pd.read_csv('201905-baywheels-tripdata.csv')\n",
    "#in 201906, 201907, 201911, 201912 they one more column that I delete \"rental_access_method\", as I don´t need it\n",
    "df_1906 = pd.read_csv('201906-baywheels-tripdata.csv')\n",
    "df_1906 = df_1906.drop(columns=['rental_access_method'])\n",
    "df_1907 = pd.read_csv('201907-baywheels-tripdata.csv')\n",
    "df_1907 = df_1907.drop(columns=['rental_access_method'])\n",
    "df_1908 = pd.read_csv('201908-baywheels-tripdata.csv')\n",
    "df_1909 = pd.read_csv('201909-baywheels-tripdata.csv')\n",
    "df_1910 = pd.read_csv('201910-baywheels-tripdata.csv')\n",
    "df_1911 = pd.read_csv('201911-baywheels-tripdata.csv')\n",
    "df_1911 = df_1911.drop(columns=['rental_access_method'])\n",
    "#for december 2019 there are two formats in the file. I had to divide it and import separately\n",
    "#the first pack follows the same rules as the one before\n",
    "df_191201 = pd.read_csv('20191201-baywheels-tripdata.csv')\n",
    "df_191201 = df_191201.drop(columns=['rental_access_method'])\n",
    "#the second pack has two more columns. I had to include two more titles in the csv and after importing, delete those two columns\n",
    "df_191202 = pd.read_csv('20191202-baywheels-tripdata.csv',header=0)\n",
    "df_191202 = df_191202.drop(columns=['A1', 'A2','rental_access_method'])"
   ]
  },
  {
   "cell_type": "markdown",
   "metadata": {},
   "source": [
    "> I append all the 2019 dataframes and check if the total number of rows are the same after the append. If the result is true, the append action is correct"
   ]
  },
  {
   "cell_type": "code",
   "execution_count": 3,
   "metadata": {},
   "outputs": [],
   "source": [
    "df_19 = df_1901.append([df_1902,df_1903,df_1904,df_1905,df_1906,df_1907,df_1908,df_1909,df_1910,df_1911,df_191201,df_191202])"
   ]
  },
  {
   "cell_type": "code",
   "execution_count": 4,
   "metadata": {},
   "outputs": [
    {
     "data": {
      "text/plain": [
       "True"
      ]
     },
     "execution_count": 4,
     "metadata": {},
     "output_type": "execute_result"
    }
   ],
   "source": [
    "df_19.shape[0]==df_1901.shape[0]+df_1902.shape[0]+df_1903.shape[0]+df_1904.shape[0]+df_1905.shape[0]+df_1906.shape[0]+df_1907.shape[0]+df_1908.shape[0]+df_1909.shape[0]+df_1910.shape[0]+df_1911.shape[0]+df_191201.shape[0]+df_191202.shape[0]"
   ]
  },
  {
   "cell_type": "markdown",
   "metadata": {},
   "source": [
    "> I do the same with the 2018 dataframe"
   ]
  },
  {
   "cell_type": "code",
   "execution_count": 5,
   "metadata": {},
   "outputs": [],
   "source": [
    "df_1801 = pd.read_csv('201801-fordgobike-tripdata.csv')\n",
    "df_1802 = pd.read_csv('201802-fordgobike-tripdata.csv')\n",
    "df_1803 = pd.read_csv('201803-fordgobike-tripdata.csv')\n",
    "df_1804 = pd.read_csv('201804-fordgobike-tripdata.csv')\n",
    "df_1805 = pd.read_csv('201805-fordgobike-tripdata.csv')\n",
    "df_1806 = pd.read_csv('201806-fordgobike-tripdata.csv')\n",
    "df_1807 = pd.read_csv('201807-fordgobike-tripdata.csv')\n",
    "df_1808 = pd.read_csv('201808-fordgobike-tripdata.csv')\n",
    "df_1809 = pd.read_csv('201809-fordgobike-tripdata.csv')\n",
    "df_1810 = pd.read_csv('201810-fordgobike-tripdata.csv')\n",
    "df_1811 = pd.read_csv('201811-fordgobike-tripdata.csv')\n",
    "df_1812 = pd.read_csv('201812-fordgobike-tripdata.csv')"
   ]
  },
  {
   "cell_type": "code",
   "execution_count": 6,
   "metadata": {},
   "outputs": [],
   "source": [
    "df_18 = df_1801.append([df_1802,df_1803,df_1804,df_1805,df_1806,df_1807,df_1808,df_1809,df_1810,df_1811,df_1812])"
   ]
  },
  {
   "cell_type": "code",
   "execution_count": 7,
   "metadata": {},
   "outputs": [
    {
     "data": {
      "text/plain": [
       "True"
      ]
     },
     "execution_count": 7,
     "metadata": {},
     "output_type": "execute_result"
    }
   ],
   "source": [
    "df_18.shape[0]==df_1801.shape[0]+df_1802.shape[0]+df_1803.shape[0]+df_1804.shape[0]+df_1805.shape[0]+df_1806.shape[0]+df_1807.shape[0]+df_1808.shape[0]+df_1809.shape[0]+df_1810.shape[0]+df_1811.shape[0]+df_1812.shape[0]"
   ]
  },
  {
   "cell_type": "markdown",
   "metadata": {},
   "source": [
    "> I append both dataframes so I have my final dataframe for years 2018 and 2019"
   ]
  },
  {
   "cell_type": "code",
   "execution_count": 8,
   "metadata": {},
   "outputs": [],
   "source": [
    "df = df_18.append(df_19)"
   ]
  },
  {
   "cell_type": "code",
   "execution_count": 9,
   "metadata": {},
   "outputs": [
    {
     "data": {
      "text/plain": [
       "True"
      ]
     },
     "execution_count": 9,
     "metadata": {},
     "output_type": "execute_result"
    }
   ],
   "source": [
    "df.shape[0]==df_18.shape[0]+df_19.shape[0]"
   ]
  },
  {
   "cell_type": "markdown",
   "metadata": {},
   "source": [
    "> For checking it has been imported correctly I do some visualization of data"
   ]
  },
  {
   "cell_type": "code",
   "execution_count": 10,
   "metadata": {},
   "outputs": [
    {
     "data": {
      "text/plain": [
       "(4370704, 14)"
      ]
     },
     "execution_count": 10,
     "metadata": {},
     "output_type": "execute_result"
    }
   ],
   "source": [
    "df.shape"
   ]
  },
  {
   "cell_type": "code",
   "execution_count": 11,
   "metadata": {},
   "outputs": [
    {
     "data": {
      "text/html": [
       "<div>\n",
       "<style scoped>\n",
       "    .dataframe tbody tr th:only-of-type {\n",
       "        vertical-align: middle;\n",
       "    }\n",
       "\n",
       "    .dataframe tbody tr th {\n",
       "        vertical-align: top;\n",
       "    }\n",
       "\n",
       "    .dataframe thead th {\n",
       "        text-align: right;\n",
       "    }\n",
       "</style>\n",
       "<table border=\"1\" class=\"dataframe\">\n",
       "  <thead>\n",
       "    <tr style=\"text-align: right;\">\n",
       "      <th></th>\n",
       "      <th>duration_sec</th>\n",
       "      <th>start_time</th>\n",
       "      <th>end_time</th>\n",
       "      <th>start_station_id</th>\n",
       "      <th>start_station_name</th>\n",
       "      <th>start_station_latitude</th>\n",
       "      <th>start_station_longitude</th>\n",
       "      <th>end_station_id</th>\n",
       "      <th>end_station_name</th>\n",
       "      <th>end_station_latitude</th>\n",
       "      <th>end_station_longitude</th>\n",
       "      <th>bike_id</th>\n",
       "      <th>user_type</th>\n",
       "      <th>bike_share_for_all_trip</th>\n",
       "    </tr>\n",
       "  </thead>\n",
       "  <tbody>\n",
       "    <tr>\n",
       "      <td>0</td>\n",
       "      <td>75284</td>\n",
       "      <td>2018-01-31 22:52:35.2390</td>\n",
       "      <td>2018-02-01 19:47:19.8240</td>\n",
       "      <td>120.0</td>\n",
       "      <td>Mission Dolores Park</td>\n",
       "      <td>37.761420</td>\n",
       "      <td>-122.426435</td>\n",
       "      <td>285.0</td>\n",
       "      <td>Webster St at O'Farrell St</td>\n",
       "      <td>37.783521</td>\n",
       "      <td>-122.431158</td>\n",
       "      <td>2765</td>\n",
       "      <td>Subscriber</td>\n",
       "      <td>No</td>\n",
       "    </tr>\n",
       "    <tr>\n",
       "      <td>1</td>\n",
       "      <td>85422</td>\n",
       "      <td>2018-01-31 16:13:34.3510</td>\n",
       "      <td>2018-02-01 15:57:17.3100</td>\n",
       "      <td>15.0</td>\n",
       "      <td>San Francisco Ferry Building (Harry Bridges Pl...</td>\n",
       "      <td>37.795392</td>\n",
       "      <td>-122.394203</td>\n",
       "      <td>15.0</td>\n",
       "      <td>San Francisco Ferry Building (Harry Bridges Pl...</td>\n",
       "      <td>37.795392</td>\n",
       "      <td>-122.394203</td>\n",
       "      <td>2815</td>\n",
       "      <td>Customer</td>\n",
       "      <td>No</td>\n",
       "    </tr>\n",
       "    <tr>\n",
       "      <td>2</td>\n",
       "      <td>71576</td>\n",
       "      <td>2018-01-31 14:23:55.8890</td>\n",
       "      <td>2018-02-01 10:16:52.1160</td>\n",
       "      <td>304.0</td>\n",
       "      <td>Jackson St at 5th St</td>\n",
       "      <td>37.348759</td>\n",
       "      <td>-121.894798</td>\n",
       "      <td>296.0</td>\n",
       "      <td>5th St at Virginia St</td>\n",
       "      <td>37.325998</td>\n",
       "      <td>-121.877120</td>\n",
       "      <td>3039</td>\n",
       "      <td>Customer</td>\n",
       "      <td>No</td>\n",
       "    </tr>\n",
       "    <tr>\n",
       "      <td>3</td>\n",
       "      <td>61076</td>\n",
       "      <td>2018-01-31 14:53:23.5620</td>\n",
       "      <td>2018-02-01 07:51:20.5000</td>\n",
       "      <td>75.0</td>\n",
       "      <td>Market St at Franklin St</td>\n",
       "      <td>37.773793</td>\n",
       "      <td>-122.421239</td>\n",
       "      <td>47.0</td>\n",
       "      <td>4th St at Harrison St</td>\n",
       "      <td>37.780955</td>\n",
       "      <td>-122.399749</td>\n",
       "      <td>321</td>\n",
       "      <td>Customer</td>\n",
       "      <td>No</td>\n",
       "    </tr>\n",
       "    <tr>\n",
       "      <td>4</td>\n",
       "      <td>39966</td>\n",
       "      <td>2018-01-31 19:52:24.6670</td>\n",
       "      <td>2018-02-01 06:58:31.0530</td>\n",
       "      <td>74.0</td>\n",
       "      <td>Laguna St at Hayes St</td>\n",
       "      <td>37.776435</td>\n",
       "      <td>-122.426244</td>\n",
       "      <td>19.0</td>\n",
       "      <td>Post St at Kearny St</td>\n",
       "      <td>37.788975</td>\n",
       "      <td>-122.403452</td>\n",
       "      <td>617</td>\n",
       "      <td>Subscriber</td>\n",
       "      <td>No</td>\n",
       "    </tr>\n",
       "  </tbody>\n",
       "</table>\n",
       "</div>"
      ],
      "text/plain": [
       "   duration_sec                start_time                  end_time  \\\n",
       "0         75284  2018-01-31 22:52:35.2390  2018-02-01 19:47:19.8240   \n",
       "1         85422  2018-01-31 16:13:34.3510  2018-02-01 15:57:17.3100   \n",
       "2         71576  2018-01-31 14:23:55.8890  2018-02-01 10:16:52.1160   \n",
       "3         61076  2018-01-31 14:53:23.5620  2018-02-01 07:51:20.5000   \n",
       "4         39966  2018-01-31 19:52:24.6670  2018-02-01 06:58:31.0530   \n",
       "\n",
       "   start_station_id                                 start_station_name  \\\n",
       "0             120.0                               Mission Dolores Park   \n",
       "1              15.0  San Francisco Ferry Building (Harry Bridges Pl...   \n",
       "2             304.0                               Jackson St at 5th St   \n",
       "3              75.0                           Market St at Franklin St   \n",
       "4              74.0                              Laguna St at Hayes St   \n",
       "\n",
       "   start_station_latitude  start_station_longitude  end_station_id  \\\n",
       "0               37.761420              -122.426435           285.0   \n",
       "1               37.795392              -122.394203            15.0   \n",
       "2               37.348759              -121.894798           296.0   \n",
       "3               37.773793              -122.421239            47.0   \n",
       "4               37.776435              -122.426244            19.0   \n",
       "\n",
       "                                    end_station_name  end_station_latitude  \\\n",
       "0                         Webster St at O'Farrell St             37.783521   \n",
       "1  San Francisco Ferry Building (Harry Bridges Pl...             37.795392   \n",
       "2                              5th St at Virginia St             37.325998   \n",
       "3                              4th St at Harrison St             37.780955   \n",
       "4                               Post St at Kearny St             37.788975   \n",
       "\n",
       "   end_station_longitude  bike_id   user_type bike_share_for_all_trip  \n",
       "0            -122.431158     2765  Subscriber                      No  \n",
       "1            -122.394203     2815    Customer                      No  \n",
       "2            -121.877120     3039    Customer                      No  \n",
       "3            -122.399749      321    Customer                      No  \n",
       "4            -122.403452      617  Subscriber                      No  "
      ]
     },
     "execution_count": 11,
     "metadata": {},
     "output_type": "execute_result"
    }
   ],
   "source": [
    "df.head()"
   ]
  },
  {
   "cell_type": "code",
   "execution_count": 12,
   "metadata": {},
   "outputs": [
    {
     "data": {
      "text/html": [
       "<div>\n",
       "<style scoped>\n",
       "    .dataframe tbody tr th:only-of-type {\n",
       "        vertical-align: middle;\n",
       "    }\n",
       "\n",
       "    .dataframe tbody tr th {\n",
       "        vertical-align: top;\n",
       "    }\n",
       "\n",
       "    .dataframe thead th {\n",
       "        text-align: right;\n",
       "    }\n",
       "</style>\n",
       "<table border=\"1\" class=\"dataframe\">\n",
       "  <thead>\n",
       "    <tr style=\"text-align: right;\">\n",
       "      <th></th>\n",
       "      <th>duration_sec</th>\n",
       "      <th>start_time</th>\n",
       "      <th>end_time</th>\n",
       "      <th>start_station_id</th>\n",
       "      <th>start_station_name</th>\n",
       "      <th>start_station_latitude</th>\n",
       "      <th>start_station_longitude</th>\n",
       "      <th>end_station_id</th>\n",
       "      <th>end_station_name</th>\n",
       "      <th>end_station_latitude</th>\n",
       "      <th>end_station_longitude</th>\n",
       "      <th>bike_id</th>\n",
       "      <th>user_type</th>\n",
       "      <th>bike_share_for_all_trip</th>\n",
       "    </tr>\n",
       "  </thead>\n",
       "  <tbody>\n",
       "    <tr>\n",
       "      <td>5374</td>\n",
       "      <td>270</td>\n",
       "      <td>2018-11-30 07:39:09.8910</td>\n",
       "      <td>2018-11-30 07:43:40.6160</td>\n",
       "      <td>58.0</td>\n",
       "      <td>Market St at 10th St</td>\n",
       "      <td>37.776619</td>\n",
       "      <td>-122.417385</td>\n",
       "      <td>88.0</td>\n",
       "      <td>11th St at Bryant St</td>\n",
       "      <td>37.770030</td>\n",
       "      <td>-122.411726</td>\n",
       "      <td>1976</td>\n",
       "      <td>Subscriber</td>\n",
       "      <td>No</td>\n",
       "    </tr>\n",
       "    <tr>\n",
       "      <td>4339</td>\n",
       "      <td>527</td>\n",
       "      <td>2019-01-31 16:02:43.7370</td>\n",
       "      <td>2019-01-31 16:11:31.0170</td>\n",
       "      <td>317.0</td>\n",
       "      <td>San Salvador St at 9th St</td>\n",
       "      <td>37.333955</td>\n",
       "      <td>-121.877349</td>\n",
       "      <td>280.0</td>\n",
       "      <td>San Fernando St at 7th St</td>\n",
       "      <td>37.337122</td>\n",
       "      <td>-121.883215</td>\n",
       "      <td>4225</td>\n",
       "      <td>Subscriber</td>\n",
       "      <td>Yes</td>\n",
       "    </tr>\n",
       "    <tr>\n",
       "      <td>53063</td>\n",
       "      <td>555</td>\n",
       "      <td>2019-12-14 12:14:42.5250</td>\n",
       "      <td>2019-12-14 12:23:58.1010</td>\n",
       "      <td>110.0</td>\n",
       "      <td>17th &amp; Folsom Street Park (17th St at Folsom St)</td>\n",
       "      <td>37.763708</td>\n",
       "      <td>-122.415204</td>\n",
       "      <td>105.0</td>\n",
       "      <td>16th St at Prosper St</td>\n",
       "      <td>37.764285</td>\n",
       "      <td>-122.431804</td>\n",
       "      <td>9753</td>\n",
       "      <td>Customer</td>\n",
       "      <td>No</td>\n",
       "    </tr>\n",
       "    <tr>\n",
       "      <td>140048</td>\n",
       "      <td>1233</td>\n",
       "      <td>2019-03-15 17:24:37.1000</td>\n",
       "      <td>2019-03-15 17:45:11.0120</td>\n",
       "      <td>66.0</td>\n",
       "      <td>3rd St at Townsend St</td>\n",
       "      <td>37.778742</td>\n",
       "      <td>-122.392741</td>\n",
       "      <td>377.0</td>\n",
       "      <td>Fell St at Stanyan St</td>\n",
       "      <td>37.771917</td>\n",
       "      <td>-122.453704</td>\n",
       "      <td>6083</td>\n",
       "      <td>Subscriber</td>\n",
       "      <td>No</td>\n",
       "    </tr>\n",
       "    <tr>\n",
       "      <td>68626</td>\n",
       "      <td>988</td>\n",
       "      <td>2019-03-23 17:35:39.4260</td>\n",
       "      <td>2019-03-23 17:52:07.6710</td>\n",
       "      <td>31.0</td>\n",
       "      <td>Raymond Kimbell Playground</td>\n",
       "      <td>37.783813</td>\n",
       "      <td>-122.434559</td>\n",
       "      <td>371.0</td>\n",
       "      <td>Lombard St at Columbus Ave</td>\n",
       "      <td>37.802746</td>\n",
       "      <td>-122.413579</td>\n",
       "      <td>5345</td>\n",
       "      <td>Subscriber</td>\n",
       "      <td>No</td>\n",
       "    </tr>\n",
       "  </tbody>\n",
       "</table>\n",
       "</div>"
      ],
      "text/plain": [
       "        duration_sec                start_time                  end_time  \\\n",
       "5374             270  2018-11-30 07:39:09.8910  2018-11-30 07:43:40.6160   \n",
       "4339             527  2019-01-31 16:02:43.7370  2019-01-31 16:11:31.0170   \n",
       "53063            555  2019-12-14 12:14:42.5250  2019-12-14 12:23:58.1010   \n",
       "140048          1233  2019-03-15 17:24:37.1000  2019-03-15 17:45:11.0120   \n",
       "68626            988  2019-03-23 17:35:39.4260  2019-03-23 17:52:07.6710   \n",
       "\n",
       "        start_station_id                                start_station_name  \\\n",
       "5374                58.0                              Market St at 10th St   \n",
       "4339               317.0                         San Salvador St at 9th St   \n",
       "53063              110.0  17th & Folsom Street Park (17th St at Folsom St)   \n",
       "140048              66.0                             3rd St at Townsend St   \n",
       "68626               31.0                        Raymond Kimbell Playground   \n",
       "\n",
       "        start_station_latitude  start_station_longitude  end_station_id  \\\n",
       "5374                 37.776619              -122.417385            88.0   \n",
       "4339                 37.333955              -121.877349           280.0   \n",
       "53063                37.763708              -122.415204           105.0   \n",
       "140048               37.778742              -122.392741           377.0   \n",
       "68626                37.783813              -122.434559           371.0   \n",
       "\n",
       "                  end_station_name  end_station_latitude  \\\n",
       "5374          11th St at Bryant St             37.770030   \n",
       "4339     San Fernando St at 7th St             37.337122   \n",
       "53063        16th St at Prosper St             37.764285   \n",
       "140048       Fell St at Stanyan St             37.771917   \n",
       "68626   Lombard St at Columbus Ave             37.802746   \n",
       "\n",
       "        end_station_longitude  bike_id   user_type bike_share_for_all_trip  \n",
       "5374              -122.411726     1976  Subscriber                      No  \n",
       "4339              -121.883215     4225  Subscriber                     Yes  \n",
       "53063             -122.431804     9753    Customer                      No  \n",
       "140048            -122.453704     6083  Subscriber                      No  \n",
       "68626             -122.413579     5345  Subscriber                      No  "
      ]
     },
     "execution_count": 12,
     "metadata": {},
     "output_type": "execute_result"
    }
   ],
   "source": [
    "df.sample(5)"
   ]
  },
  {
   "cell_type": "markdown",
   "metadata": {},
   "source": [
    "## ASESSING AND CLEANING DATA\n",
    "\n",
    "> After gathering each of the above pieces of data, I´ve assessed them visually and programmatically for quality and tidiness issues, and clean the issues\n",
    "\n",
    "> First thing I do a copy of my dataframe\n"
   ]
  },
  {
   "cell_type": "code",
   "execution_count": 13,
   "metadata": {},
   "outputs": [],
   "source": [
    "df_clean = df.copy()"
   ]
  },
  {
   "cell_type": "markdown",
   "metadata": {},
   "source": [
    "### Tidiness issues\n",
    "\n",
    "> The tidiness issue has been discovered through visual assesement, looking at the head() and sample() results visualized above\n",
    "\n",
    "> 1 The info of the stations id, names, latitudes and longitudes is redundant. (Visual assessment)\n",
    "\n",
    "> Solution: I´m going to create a new table with the data of the stations, and drop those columns from the general dataframe\n"
   ]
  },
  {
   "cell_type": "code",
   "execution_count": 14,
   "metadata": {},
   "outputs": [],
   "source": [
    "#I create the new df for the start stations\n",
    "df_start_station = df.copy()\n",
    "df_start_station = df_start_station.drop(['duration_sec','start_time', 'end_time','end_station_id', 'end_station_name','end_station_latitude','end_station_longitude','bike_id','user_type','bike_share_for_all_trip'], axis=1)\n",
    "df_start_station.drop_duplicates(inplace = True)\n",
    "df_start_station.rename(columns={\"start_station_id\": \"id\", \"start_station_name\": \"name\", \"start_station_latitude\": \"latitude\", \"start_station_longitude\": \"longitude\"}, inplace = True)"
   ]
  },
  {
   "cell_type": "code",
   "execution_count": 15,
   "metadata": {},
   "outputs": [],
   "source": [
    "#I create the new df for the end stations\n",
    "df_end_station = df.copy()\n",
    "df_end_station = df_end_station.drop(['duration_sec','start_time', 'end_time','start_station_id', 'start_station_name','start_station_latitude','start_station_longitude','bike_id','user_type','bike_share_for_all_trip'], axis=1)\n",
    "df_end_station.drop_duplicates(inplace = True)\n",
    "df_end_station.rename(columns={\"end_station_id\": \"id\", \"end_station_name\": \"name\", \"end_station_latitude\": \"latitude\", \"end_station_longitude\": \"longitude\"}, inplace = True)"
   ]
  },
  {
   "cell_type": "code",
   "execution_count": 16,
   "metadata": {},
   "outputs": [],
   "source": [
    "#I put together both dfs and remove duplicates\n",
    "df_station = df_start_station.append(df_end_station)\n",
    "df_station.drop_duplicates(inplace = True)\n",
    "#there are some duplicates of id. As I don´t know what´s the correct info I just keep one of them\n",
    "df_station.drop_duplicates(subset =\"id\",inplace = True)\n",
    "#there´s also a Nan, that I have to drop\n",
    "df_station = df_station.dropna()"
   ]
  },
  {
   "cell_type": "code",
   "execution_count": 17,
   "metadata": {},
   "outputs": [],
   "source": [
    "#I drop the columns from the original dataframe\n",
    "df_clean = df_clean.drop([ 'start_station_name','start_station_latitude','start_station_longitude','end_station_name','end_station_latitude','end_station_longitude'], axis=1)\n"
   ]
  },
  {
   "cell_type": "markdown",
   "metadata": {},
   "source": [
    "> Now we can see how were set finally both dataframes"
   ]
  },
  {
   "cell_type": "code",
   "execution_count": 18,
   "metadata": {},
   "outputs": [
    {
     "name": "stdout",
     "output_type": "stream",
     "text": [
      "<class 'pandas.core.frame.DataFrame'>\n",
      "Int64Index: 444 entries, 0 to 54597\n",
      "Data columns (total 4 columns):\n",
      "id           444 non-null float64\n",
      "name         444 non-null object\n",
      "latitude     444 non-null float64\n",
      "longitude    444 non-null float64\n",
      "dtypes: float64(3), object(1)\n",
      "memory usage: 17.3+ KB\n"
     ]
    }
   ],
   "source": [
    "df_station.info()"
   ]
  },
  {
   "cell_type": "code",
   "execution_count": 19,
   "metadata": {},
   "outputs": [
    {
     "data": {
      "text/html": [
       "<div>\n",
       "<style scoped>\n",
       "    .dataframe tbody tr th:only-of-type {\n",
       "        vertical-align: middle;\n",
       "    }\n",
       "\n",
       "    .dataframe tbody tr th {\n",
       "        vertical-align: top;\n",
       "    }\n",
       "\n",
       "    .dataframe thead th {\n",
       "        text-align: right;\n",
       "    }\n",
       "</style>\n",
       "<table border=\"1\" class=\"dataframe\">\n",
       "  <thead>\n",
       "    <tr style=\"text-align: right;\">\n",
       "      <th></th>\n",
       "      <th>id</th>\n",
       "      <th>name</th>\n",
       "      <th>latitude</th>\n",
       "      <th>longitude</th>\n",
       "    </tr>\n",
       "  </thead>\n",
       "  <tbody>\n",
       "    <tr>\n",
       "      <td>0</td>\n",
       "      <td>120.0</td>\n",
       "      <td>Mission Dolores Park</td>\n",
       "      <td>37.761420</td>\n",
       "      <td>-122.426435</td>\n",
       "    </tr>\n",
       "    <tr>\n",
       "      <td>1</td>\n",
       "      <td>15.0</td>\n",
       "      <td>San Francisco Ferry Building (Harry Bridges Pl...</td>\n",
       "      <td>37.795392</td>\n",
       "      <td>-122.394203</td>\n",
       "    </tr>\n",
       "    <tr>\n",
       "      <td>2</td>\n",
       "      <td>304.0</td>\n",
       "      <td>Jackson St at 5th St</td>\n",
       "      <td>37.348759</td>\n",
       "      <td>-121.894798</td>\n",
       "    </tr>\n",
       "    <tr>\n",
       "      <td>3</td>\n",
       "      <td>75.0</td>\n",
       "      <td>Market St at Franklin St</td>\n",
       "      <td>37.773793</td>\n",
       "      <td>-122.421239</td>\n",
       "    </tr>\n",
       "    <tr>\n",
       "      <td>4</td>\n",
       "      <td>74.0</td>\n",
       "      <td>Laguna St at Hayes St</td>\n",
       "      <td>37.776435</td>\n",
       "      <td>-122.426244</td>\n",
       "    </tr>\n",
       "  </tbody>\n",
       "</table>\n",
       "</div>"
      ],
      "text/plain": [
       "      id                                               name   latitude  \\\n",
       "0  120.0                               Mission Dolores Park  37.761420   \n",
       "1   15.0  San Francisco Ferry Building (Harry Bridges Pl...  37.795392   \n",
       "2  304.0                               Jackson St at 5th St  37.348759   \n",
       "3   75.0                           Market St at Franklin St  37.773793   \n",
       "4   74.0                              Laguna St at Hayes St  37.776435   \n",
       "\n",
       "    longitude  \n",
       "0 -122.426435  \n",
       "1 -122.394203  \n",
       "2 -121.894798  \n",
       "3 -122.421239  \n",
       "4 -122.426244  "
      ]
     },
     "execution_count": 19,
     "metadata": {},
     "output_type": "execute_result"
    }
   ],
   "source": [
    "df_station.head()"
   ]
  },
  {
   "cell_type": "code",
   "execution_count": 20,
   "metadata": {},
   "outputs": [
    {
     "data": {
      "text/html": [
       "<div>\n",
       "<style scoped>\n",
       "    .dataframe tbody tr th:only-of-type {\n",
       "        vertical-align: middle;\n",
       "    }\n",
       "\n",
       "    .dataframe tbody tr th {\n",
       "        vertical-align: top;\n",
       "    }\n",
       "\n",
       "    .dataframe thead th {\n",
       "        text-align: right;\n",
       "    }\n",
       "</style>\n",
       "<table border=\"1\" class=\"dataframe\">\n",
       "  <thead>\n",
       "    <tr style=\"text-align: right;\">\n",
       "      <th></th>\n",
       "      <th>duration_sec</th>\n",
       "      <th>start_time</th>\n",
       "      <th>end_time</th>\n",
       "      <th>start_station_id</th>\n",
       "      <th>end_station_id</th>\n",
       "      <th>bike_id</th>\n",
       "      <th>user_type</th>\n",
       "      <th>bike_share_for_all_trip</th>\n",
       "    </tr>\n",
       "  </thead>\n",
       "  <tbody>\n",
       "    <tr>\n",
       "      <td>0</td>\n",
       "      <td>75284</td>\n",
       "      <td>2018-01-31 22:52:35.2390</td>\n",
       "      <td>2018-02-01 19:47:19.8240</td>\n",
       "      <td>120.0</td>\n",
       "      <td>285.0</td>\n",
       "      <td>2765</td>\n",
       "      <td>Subscriber</td>\n",
       "      <td>No</td>\n",
       "    </tr>\n",
       "    <tr>\n",
       "      <td>1</td>\n",
       "      <td>85422</td>\n",
       "      <td>2018-01-31 16:13:34.3510</td>\n",
       "      <td>2018-02-01 15:57:17.3100</td>\n",
       "      <td>15.0</td>\n",
       "      <td>15.0</td>\n",
       "      <td>2815</td>\n",
       "      <td>Customer</td>\n",
       "      <td>No</td>\n",
       "    </tr>\n",
       "    <tr>\n",
       "      <td>2</td>\n",
       "      <td>71576</td>\n",
       "      <td>2018-01-31 14:23:55.8890</td>\n",
       "      <td>2018-02-01 10:16:52.1160</td>\n",
       "      <td>304.0</td>\n",
       "      <td>296.0</td>\n",
       "      <td>3039</td>\n",
       "      <td>Customer</td>\n",
       "      <td>No</td>\n",
       "    </tr>\n",
       "    <tr>\n",
       "      <td>3</td>\n",
       "      <td>61076</td>\n",
       "      <td>2018-01-31 14:53:23.5620</td>\n",
       "      <td>2018-02-01 07:51:20.5000</td>\n",
       "      <td>75.0</td>\n",
       "      <td>47.0</td>\n",
       "      <td>321</td>\n",
       "      <td>Customer</td>\n",
       "      <td>No</td>\n",
       "    </tr>\n",
       "    <tr>\n",
       "      <td>4</td>\n",
       "      <td>39966</td>\n",
       "      <td>2018-01-31 19:52:24.6670</td>\n",
       "      <td>2018-02-01 06:58:31.0530</td>\n",
       "      <td>74.0</td>\n",
       "      <td>19.0</td>\n",
       "      <td>617</td>\n",
       "      <td>Subscriber</td>\n",
       "      <td>No</td>\n",
       "    </tr>\n",
       "  </tbody>\n",
       "</table>\n",
       "</div>"
      ],
      "text/plain": [
       "   duration_sec                start_time                  end_time  \\\n",
       "0         75284  2018-01-31 22:52:35.2390  2018-02-01 19:47:19.8240   \n",
       "1         85422  2018-01-31 16:13:34.3510  2018-02-01 15:57:17.3100   \n",
       "2         71576  2018-01-31 14:23:55.8890  2018-02-01 10:16:52.1160   \n",
       "3         61076  2018-01-31 14:53:23.5620  2018-02-01 07:51:20.5000   \n",
       "4         39966  2018-01-31 19:52:24.6670  2018-02-01 06:58:31.0530   \n",
       "\n",
       "   start_station_id  end_station_id  bike_id   user_type  \\\n",
       "0             120.0           285.0     2765  Subscriber   \n",
       "1              15.0            15.0     2815    Customer   \n",
       "2             304.0           296.0     3039    Customer   \n",
       "3              75.0            47.0      321    Customer   \n",
       "4              74.0            19.0      617  Subscriber   \n",
       "\n",
       "  bike_share_for_all_trip  \n",
       "0                      No  \n",
       "1                      No  \n",
       "2                      No  \n",
       "3                      No  \n",
       "4                      No  "
      ]
     },
     "execution_count": 20,
     "metadata": {},
     "output_type": "execute_result"
    }
   ],
   "source": [
    "df_clean.head()"
   ]
  },
  {
   "cell_type": "markdown",
   "metadata": {},
   "source": [
    "\n",
    "> 2 The info of duration and start and end time is redundant, as the duration is the difference between both times  (Visual assessment)\n",
    "\n",
    "> Solution: I´m going to delete the end time column as it is redundant\n",
    "\n"
   ]
  },
  {
   "cell_type": "code",
   "execution_count": 21,
   "metadata": {},
   "outputs": [],
   "source": [
    "df_clean = df_clean.drop(['end_time'], axis=1)"
   ]
  },
  {
   "cell_type": "code",
   "execution_count": 22,
   "metadata": {},
   "outputs": [
    {
     "data": {
      "text/html": [
       "<div>\n",
       "<style scoped>\n",
       "    .dataframe tbody tr th:only-of-type {\n",
       "        vertical-align: middle;\n",
       "    }\n",
       "\n",
       "    .dataframe tbody tr th {\n",
       "        vertical-align: top;\n",
       "    }\n",
       "\n",
       "    .dataframe thead th {\n",
       "        text-align: right;\n",
       "    }\n",
       "</style>\n",
       "<table border=\"1\" class=\"dataframe\">\n",
       "  <thead>\n",
       "    <tr style=\"text-align: right;\">\n",
       "      <th></th>\n",
       "      <th>duration_sec</th>\n",
       "      <th>start_time</th>\n",
       "      <th>start_station_id</th>\n",
       "      <th>end_station_id</th>\n",
       "      <th>bike_id</th>\n",
       "      <th>user_type</th>\n",
       "      <th>bike_share_for_all_trip</th>\n",
       "    </tr>\n",
       "  </thead>\n",
       "  <tbody>\n",
       "    <tr>\n",
       "      <td>0</td>\n",
       "      <td>75284</td>\n",
       "      <td>2018-01-31 22:52:35.2390</td>\n",
       "      <td>120.0</td>\n",
       "      <td>285.0</td>\n",
       "      <td>2765</td>\n",
       "      <td>Subscriber</td>\n",
       "      <td>No</td>\n",
       "    </tr>\n",
       "    <tr>\n",
       "      <td>1</td>\n",
       "      <td>85422</td>\n",
       "      <td>2018-01-31 16:13:34.3510</td>\n",
       "      <td>15.0</td>\n",
       "      <td>15.0</td>\n",
       "      <td>2815</td>\n",
       "      <td>Customer</td>\n",
       "      <td>No</td>\n",
       "    </tr>\n",
       "    <tr>\n",
       "      <td>2</td>\n",
       "      <td>71576</td>\n",
       "      <td>2018-01-31 14:23:55.8890</td>\n",
       "      <td>304.0</td>\n",
       "      <td>296.0</td>\n",
       "      <td>3039</td>\n",
       "      <td>Customer</td>\n",
       "      <td>No</td>\n",
       "    </tr>\n",
       "    <tr>\n",
       "      <td>3</td>\n",
       "      <td>61076</td>\n",
       "      <td>2018-01-31 14:53:23.5620</td>\n",
       "      <td>75.0</td>\n",
       "      <td>47.0</td>\n",
       "      <td>321</td>\n",
       "      <td>Customer</td>\n",
       "      <td>No</td>\n",
       "    </tr>\n",
       "    <tr>\n",
       "      <td>4</td>\n",
       "      <td>39966</td>\n",
       "      <td>2018-01-31 19:52:24.6670</td>\n",
       "      <td>74.0</td>\n",
       "      <td>19.0</td>\n",
       "      <td>617</td>\n",
       "      <td>Subscriber</td>\n",
       "      <td>No</td>\n",
       "    </tr>\n",
       "  </tbody>\n",
       "</table>\n",
       "</div>"
      ],
      "text/plain": [
       "   duration_sec                start_time  start_station_id  end_station_id  \\\n",
       "0         75284  2018-01-31 22:52:35.2390             120.0           285.0   \n",
       "1         85422  2018-01-31 16:13:34.3510              15.0            15.0   \n",
       "2         71576  2018-01-31 14:23:55.8890             304.0           296.0   \n",
       "3         61076  2018-01-31 14:53:23.5620              75.0            47.0   \n",
       "4         39966  2018-01-31 19:52:24.6670              74.0            19.0   \n",
       "\n",
       "   bike_id   user_type bike_share_for_all_trip  \n",
       "0     2765  Subscriber                      No  \n",
       "1     2815    Customer                      No  \n",
       "2     3039    Customer                      No  \n",
       "3      321    Customer                      No  \n",
       "4      617  Subscriber                      No  "
      ]
     },
     "execution_count": 22,
     "metadata": {},
     "output_type": "execute_result"
    }
   ],
   "source": [
    "df_clean.head()"
   ]
  },
  {
   "cell_type": "markdown",
   "metadata": {},
   "source": [
    "### Quality issues\n",
    "\n",
    "> For asessing programatically I´ve used functions like describe(), info(), nunique(), head(), value_counts(),... The issues discovered are the next:\n",
    "\n",
    "> 1 df: incorrect datatype of the field: start_time\n"
   ]
  },
  {
   "cell_type": "code",
   "execution_count": 23,
   "metadata": {},
   "outputs": [
    {
     "name": "stdout",
     "output_type": "stream",
     "text": [
      "<class 'pandas.core.frame.DataFrame'>\n",
      "Int64Index: 4370704 entries, 0 to 27680\n",
      "Data columns (total 7 columns):\n",
      "duration_sec               int64\n",
      "start_time                 object\n",
      "start_station_id           float64\n",
      "end_station_id             float64\n",
      "bike_id                    int64\n",
      "user_type                  object\n",
      "bike_share_for_all_trip    object\n",
      "dtypes: float64(2), int64(2), object(3)\n",
      "memory usage: 266.8+ MB\n"
     ]
    }
   ],
   "source": [
    "df_clean.info()"
   ]
  },
  {
   "cell_type": "markdown",
   "metadata": {},
   "source": [
    "> Solution: change the datatype of the field"
   ]
  },
  {
   "cell_type": "code",
   "execution_count": 24,
   "metadata": {},
   "outputs": [],
   "source": [
    "df_clean.start_time = pd.to_datetime(df_clean.start_time)"
   ]
  },
  {
   "cell_type": "code",
   "execution_count": 25,
   "metadata": {},
   "outputs": [
    {
     "name": "stdout",
     "output_type": "stream",
     "text": [
      "<class 'pandas.core.frame.DataFrame'>\n",
      "Int64Index: 4370704 entries, 0 to 27680\n",
      "Data columns (total 7 columns):\n",
      "duration_sec               int64\n",
      "start_time                 datetime64[ns]\n",
      "start_station_id           float64\n",
      "end_station_id             float64\n",
      "bike_id                    int64\n",
      "user_type                  object\n",
      "bike_share_for_all_trip    object\n",
      "dtypes: datetime64[ns](1), float64(2), int64(2), object(2)\n",
      "memory usage: 266.8+ MB\n"
     ]
    }
   ],
   "source": [
    "df_clean.info()"
   ]
  },
  {
   "cell_type": "markdown",
   "metadata": {},
   "source": [
    "> 2 df: There is a lot of poor quality information in bike_share_for_all_trip column and we are not going to use that field in our analysis"
   ]
  },
  {
   "cell_type": "code",
   "execution_count": 26,
   "metadata": {},
   "outputs": [
    {
     "data": {
      "text/plain": [
       "duration_sec                    0\n",
       "start_time                      0\n",
       "start_station_id            92505\n",
       "end_station_id              94673\n",
       "bike_id                         0\n",
       "user_type                       0\n",
       "bike_share_for_all_trip    101066\n",
       "dtype: int64"
      ]
     },
     "execution_count": 26,
     "metadata": {},
     "output_type": "execute_result"
    }
   ],
   "source": [
    "df_clean.isnull().sum()"
   ]
  },
  {
   "cell_type": "markdown",
   "metadata": {},
   "source": [
    "> Solution: drop the column"
   ]
  },
  {
   "cell_type": "code",
   "execution_count": 27,
   "metadata": {},
   "outputs": [],
   "source": [
    "df_clean = df_clean.drop(['bike_share_for_all_trip'], axis=1)"
   ]
  },
  {
   "cell_type": "code",
   "execution_count": 28,
   "metadata": {},
   "outputs": [
    {
     "name": "stdout",
     "output_type": "stream",
     "text": [
      "<class 'pandas.core.frame.DataFrame'>\n",
      "Int64Index: 4370704 entries, 0 to 27680\n",
      "Data columns (total 6 columns):\n",
      "duration_sec        int64\n",
      "start_time          datetime64[ns]\n",
      "start_station_id    float64\n",
      "end_station_id      float64\n",
      "bike_id             int64\n",
      "user_type           object\n",
      "dtypes: datetime64[ns](1), float64(2), int64(2), object(1)\n",
      "memory usage: 233.4+ MB\n"
     ]
    }
   ],
   "source": [
    "df_clean.info()"
   ]
  },
  {
   "cell_type": "markdown",
   "metadata": {},
   "source": [
    "> 3 df: there are a lot of NaNs in station ids"
   ]
  },
  {
   "cell_type": "code",
   "execution_count": 29,
   "metadata": {},
   "outputs": [
    {
     "data": {
      "text/plain": [
       "duration_sec            0\n",
       "start_time              0\n",
       "start_station_id    92505\n",
       "end_station_id      94673\n",
       "bike_id                 0\n",
       "user_type               0\n",
       "dtype: int64"
      ]
     },
     "execution_count": 29,
     "metadata": {},
     "output_type": "execute_result"
    }
   ],
   "source": [
    "df_clean.isnull().sum()"
   ]
  },
  {
   "cell_type": "markdown",
   "metadata": {},
   "source": [
    "> Solution: We could drop the rows with NaNs, or find another solution, but as my analysis is not going to be about the stations I´ll leave the rows with the NaNs"
   ]
  },
  {
   "cell_type": "markdown",
   "metadata": {},
   "source": [
    "### Engineering issues\n",
    "\n",
    "> Actions for modifiying actual data or create new one from the actual for a better analysis"
   ]
  },
  {
   "cell_type": "markdown",
   "metadata": {},
   "source": [
    "> 1 df: the duration in seconds has high numbers and it´s not understandable at first view, so I´m going to change it to minutes"
   ]
  },
  {
   "cell_type": "code",
   "execution_count": 30,
   "metadata": {},
   "outputs": [
    {
     "data": {
      "text/html": [
       "<div>\n",
       "<style scoped>\n",
       "    .dataframe tbody tr th:only-of-type {\n",
       "        vertical-align: middle;\n",
       "    }\n",
       "\n",
       "    .dataframe tbody tr th {\n",
       "        vertical-align: top;\n",
       "    }\n",
       "\n",
       "    .dataframe thead th {\n",
       "        text-align: right;\n",
       "    }\n",
       "</style>\n",
       "<table border=\"1\" class=\"dataframe\">\n",
       "  <thead>\n",
       "    <tr style=\"text-align: right;\">\n",
       "      <th></th>\n",
       "      <th>duration_sec</th>\n",
       "      <th>start_time</th>\n",
       "      <th>start_station_id</th>\n",
       "      <th>end_station_id</th>\n",
       "      <th>bike_id</th>\n",
       "      <th>user_type</th>\n",
       "    </tr>\n",
       "  </thead>\n",
       "  <tbody>\n",
       "    <tr>\n",
       "      <td>0</td>\n",
       "      <td>75284</td>\n",
       "      <td>2018-01-31 22:52:35.239</td>\n",
       "      <td>120.0</td>\n",
       "      <td>285.0</td>\n",
       "      <td>2765</td>\n",
       "      <td>Subscriber</td>\n",
       "    </tr>\n",
       "    <tr>\n",
       "      <td>1</td>\n",
       "      <td>85422</td>\n",
       "      <td>2018-01-31 16:13:34.351</td>\n",
       "      <td>15.0</td>\n",
       "      <td>15.0</td>\n",
       "      <td>2815</td>\n",
       "      <td>Customer</td>\n",
       "    </tr>\n",
       "    <tr>\n",
       "      <td>2</td>\n",
       "      <td>71576</td>\n",
       "      <td>2018-01-31 14:23:55.889</td>\n",
       "      <td>304.0</td>\n",
       "      <td>296.0</td>\n",
       "      <td>3039</td>\n",
       "      <td>Customer</td>\n",
       "    </tr>\n",
       "    <tr>\n",
       "      <td>3</td>\n",
       "      <td>61076</td>\n",
       "      <td>2018-01-31 14:53:23.562</td>\n",
       "      <td>75.0</td>\n",
       "      <td>47.0</td>\n",
       "      <td>321</td>\n",
       "      <td>Customer</td>\n",
       "    </tr>\n",
       "    <tr>\n",
       "      <td>4</td>\n",
       "      <td>39966</td>\n",
       "      <td>2018-01-31 19:52:24.667</td>\n",
       "      <td>74.0</td>\n",
       "      <td>19.0</td>\n",
       "      <td>617</td>\n",
       "      <td>Subscriber</td>\n",
       "    </tr>\n",
       "  </tbody>\n",
       "</table>\n",
       "</div>"
      ],
      "text/plain": [
       "   duration_sec              start_time  start_station_id  end_station_id  \\\n",
       "0         75284 2018-01-31 22:52:35.239             120.0           285.0   \n",
       "1         85422 2018-01-31 16:13:34.351              15.0            15.0   \n",
       "2         71576 2018-01-31 14:23:55.889             304.0           296.0   \n",
       "3         61076 2018-01-31 14:53:23.562              75.0            47.0   \n",
       "4         39966 2018-01-31 19:52:24.667              74.0            19.0   \n",
       "\n",
       "   bike_id   user_type  \n",
       "0     2765  Subscriber  \n",
       "1     2815    Customer  \n",
       "2     3039    Customer  \n",
       "3      321    Customer  \n",
       "4      617  Subscriber  "
      ]
     },
     "execution_count": 30,
     "metadata": {},
     "output_type": "execute_result"
    }
   ],
   "source": [
    "df_clean.head()"
   ]
  },
  {
   "cell_type": "markdown",
   "metadata": {},
   "source": [
    "> Solution: create a new column with the data in minutes and drop the one in seconds"
   ]
  },
  {
   "cell_type": "code",
   "execution_count": 31,
   "metadata": {},
   "outputs": [],
   "source": [
    "df_clean['duration_min'] = round(df_clean['duration_sec'] / 60,2)\n",
    "df_clean = df_clean.drop(['duration_sec'], axis=1)"
   ]
  },
  {
   "cell_type": "code",
   "execution_count": 32,
   "metadata": {},
   "outputs": [
    {
     "data": {
      "text/html": [
       "<div>\n",
       "<style scoped>\n",
       "    .dataframe tbody tr th:only-of-type {\n",
       "        vertical-align: middle;\n",
       "    }\n",
       "\n",
       "    .dataframe tbody tr th {\n",
       "        vertical-align: top;\n",
       "    }\n",
       "\n",
       "    .dataframe thead th {\n",
       "        text-align: right;\n",
       "    }\n",
       "</style>\n",
       "<table border=\"1\" class=\"dataframe\">\n",
       "  <thead>\n",
       "    <tr style=\"text-align: right;\">\n",
       "      <th></th>\n",
       "      <th>start_time</th>\n",
       "      <th>start_station_id</th>\n",
       "      <th>end_station_id</th>\n",
       "      <th>bike_id</th>\n",
       "      <th>user_type</th>\n",
       "      <th>duration_min</th>\n",
       "    </tr>\n",
       "  </thead>\n",
       "  <tbody>\n",
       "    <tr>\n",
       "      <td>0</td>\n",
       "      <td>2018-01-31 22:52:35.239</td>\n",
       "      <td>120.0</td>\n",
       "      <td>285.0</td>\n",
       "      <td>2765</td>\n",
       "      <td>Subscriber</td>\n",
       "      <td>1254.73</td>\n",
       "    </tr>\n",
       "    <tr>\n",
       "      <td>1</td>\n",
       "      <td>2018-01-31 16:13:34.351</td>\n",
       "      <td>15.0</td>\n",
       "      <td>15.0</td>\n",
       "      <td>2815</td>\n",
       "      <td>Customer</td>\n",
       "      <td>1423.70</td>\n",
       "    </tr>\n",
       "    <tr>\n",
       "      <td>2</td>\n",
       "      <td>2018-01-31 14:23:55.889</td>\n",
       "      <td>304.0</td>\n",
       "      <td>296.0</td>\n",
       "      <td>3039</td>\n",
       "      <td>Customer</td>\n",
       "      <td>1192.93</td>\n",
       "    </tr>\n",
       "    <tr>\n",
       "      <td>3</td>\n",
       "      <td>2018-01-31 14:53:23.562</td>\n",
       "      <td>75.0</td>\n",
       "      <td>47.0</td>\n",
       "      <td>321</td>\n",
       "      <td>Customer</td>\n",
       "      <td>1017.93</td>\n",
       "    </tr>\n",
       "    <tr>\n",
       "      <td>4</td>\n",
       "      <td>2018-01-31 19:52:24.667</td>\n",
       "      <td>74.0</td>\n",
       "      <td>19.0</td>\n",
       "      <td>617</td>\n",
       "      <td>Subscriber</td>\n",
       "      <td>666.10</td>\n",
       "    </tr>\n",
       "  </tbody>\n",
       "</table>\n",
       "</div>"
      ],
      "text/plain": [
       "               start_time  start_station_id  end_station_id  bike_id  \\\n",
       "0 2018-01-31 22:52:35.239             120.0           285.0     2765   \n",
       "1 2018-01-31 16:13:34.351              15.0            15.0     2815   \n",
       "2 2018-01-31 14:23:55.889             304.0           296.0     3039   \n",
       "3 2018-01-31 14:53:23.562              75.0            47.0      321   \n",
       "4 2018-01-31 19:52:24.667              74.0            19.0      617   \n",
       "\n",
       "    user_type  duration_min  \n",
       "0  Subscriber       1254.73  \n",
       "1    Customer       1423.70  \n",
       "2    Customer       1192.93  \n",
       "3    Customer       1017.93  \n",
       "4  Subscriber        666.10  "
      ]
     },
     "execution_count": 32,
     "metadata": {},
     "output_type": "execute_result"
    }
   ],
   "source": [
    "df_clean.head()"
   ]
  },
  {
   "cell_type": "markdown",
   "metadata": {},
   "source": [
    "> 2 The start time is very complete (until centesimals of secs) and we need to extract info of day, month and day of the week from there\n",
    "\n",
    "> Solution: add this new columns\n",
    "\n",
    "> For day of the week I get the values of 1 for Monday, 2 for Tuesday,... until 7 for Sunday, and the month appears as the first day of the month"
   ]
  },
  {
   "cell_type": "code",
   "execution_count": 42,
   "metadata": {},
   "outputs": [],
   "source": [
    "df_clean['date'] = df_clean['start_time'].dt.strftime('%Y/%m/%d')\n",
    "df_clean['month'] = df_clean['start_time'].dt.strftime('%Y/%m')\n",
    "df_clean['day_week'] = df_clean['start_time'].dt.dayofweek+1"
   ]
  },
  {
   "cell_type": "code",
   "execution_count": 49,
   "metadata": {},
   "outputs": [],
   "source": [
    "df_clean.date = pd.to_datetime(df_clean.date, format='%Y/%m/%d')\n",
    "df_clean.month = pd.to_datetime(df_clean.month, format='%Y/%m')"
   ]
  },
  {
   "cell_type": "code",
   "execution_count": 50,
   "metadata": {},
   "outputs": [
    {
     "data": {
      "text/html": [
       "<div>\n",
       "<style scoped>\n",
       "    .dataframe tbody tr th:only-of-type {\n",
       "        vertical-align: middle;\n",
       "    }\n",
       "\n",
       "    .dataframe tbody tr th {\n",
       "        vertical-align: top;\n",
       "    }\n",
       "\n",
       "    .dataframe thead th {\n",
       "        text-align: right;\n",
       "    }\n",
       "</style>\n",
       "<table border=\"1\" class=\"dataframe\">\n",
       "  <thead>\n",
       "    <tr style=\"text-align: right;\">\n",
       "      <th></th>\n",
       "      <th>start_time</th>\n",
       "      <th>start_station_id</th>\n",
       "      <th>end_station_id</th>\n",
       "      <th>bike_id</th>\n",
       "      <th>user_type</th>\n",
       "      <th>duration_min</th>\n",
       "      <th>date</th>\n",
       "      <th>month</th>\n",
       "      <th>day_week</th>\n",
       "    </tr>\n",
       "  </thead>\n",
       "  <tbody>\n",
       "    <tr>\n",
       "      <td>0</td>\n",
       "      <td>2018-01-31 22:52:35.239</td>\n",
       "      <td>120.0</td>\n",
       "      <td>285.0</td>\n",
       "      <td>2765</td>\n",
       "      <td>Subscriber</td>\n",
       "      <td>1254.73</td>\n",
       "      <td>2018-01-31</td>\n",
       "      <td>2018-01-01</td>\n",
       "      <td>3</td>\n",
       "    </tr>\n",
       "    <tr>\n",
       "      <td>1</td>\n",
       "      <td>2018-01-31 16:13:34.351</td>\n",
       "      <td>15.0</td>\n",
       "      <td>15.0</td>\n",
       "      <td>2815</td>\n",
       "      <td>Customer</td>\n",
       "      <td>1423.70</td>\n",
       "      <td>2018-01-31</td>\n",
       "      <td>2018-01-01</td>\n",
       "      <td>3</td>\n",
       "    </tr>\n",
       "    <tr>\n",
       "      <td>2</td>\n",
       "      <td>2018-01-31 14:23:55.889</td>\n",
       "      <td>304.0</td>\n",
       "      <td>296.0</td>\n",
       "      <td>3039</td>\n",
       "      <td>Customer</td>\n",
       "      <td>1192.93</td>\n",
       "      <td>2018-01-31</td>\n",
       "      <td>2018-01-01</td>\n",
       "      <td>3</td>\n",
       "    </tr>\n",
       "    <tr>\n",
       "      <td>3</td>\n",
       "      <td>2018-01-31 14:53:23.562</td>\n",
       "      <td>75.0</td>\n",
       "      <td>47.0</td>\n",
       "      <td>321</td>\n",
       "      <td>Customer</td>\n",
       "      <td>1017.93</td>\n",
       "      <td>2018-01-31</td>\n",
       "      <td>2018-01-01</td>\n",
       "      <td>3</td>\n",
       "    </tr>\n",
       "    <tr>\n",
       "      <td>4</td>\n",
       "      <td>2018-01-31 19:52:24.667</td>\n",
       "      <td>74.0</td>\n",
       "      <td>19.0</td>\n",
       "      <td>617</td>\n",
       "      <td>Subscriber</td>\n",
       "      <td>666.10</td>\n",
       "      <td>2018-01-31</td>\n",
       "      <td>2018-01-01</td>\n",
       "      <td>3</td>\n",
       "    </tr>\n",
       "  </tbody>\n",
       "</table>\n",
       "</div>"
      ],
      "text/plain": [
       "               start_time  start_station_id  end_station_id  bike_id  \\\n",
       "0 2018-01-31 22:52:35.239             120.0           285.0     2765   \n",
       "1 2018-01-31 16:13:34.351              15.0            15.0     2815   \n",
       "2 2018-01-31 14:23:55.889             304.0           296.0     3039   \n",
       "3 2018-01-31 14:53:23.562              75.0            47.0      321   \n",
       "4 2018-01-31 19:52:24.667              74.0            19.0      617   \n",
       "\n",
       "    user_type  duration_min       date      month  day_week  \n",
       "0  Subscriber       1254.73 2018-01-31 2018-01-01         3  \n",
       "1    Customer       1423.70 2018-01-31 2018-01-01         3  \n",
       "2    Customer       1192.93 2018-01-31 2018-01-01         3  \n",
       "3    Customer       1017.93 2018-01-31 2018-01-01         3  \n",
       "4  Subscriber        666.10 2018-01-31 2018-01-01         3  "
      ]
     },
     "execution_count": 50,
     "metadata": {},
     "output_type": "execute_result"
    }
   ],
   "source": [
    "df_clean.head()"
   ]
  },
  {
   "cell_type": "code",
   "execution_count": 51,
   "metadata": {},
   "outputs": [
    {
     "name": "stdout",
     "output_type": "stream",
     "text": [
      "<class 'pandas.core.frame.DataFrame'>\n",
      "Int64Index: 4370704 entries, 0 to 27680\n",
      "Data columns (total 9 columns):\n",
      "start_time          datetime64[ns]\n",
      "start_station_id    float64\n",
      "end_station_id      float64\n",
      "bike_id             int64\n",
      "user_type           object\n",
      "duration_min        float64\n",
      "date                datetime64[ns]\n",
      "month               datetime64[ns]\n",
      "day_week            int64\n",
      "dtypes: datetime64[ns](3), float64(3), int64(2), object(1)\n",
      "memory usage: 333.5+ MB\n"
     ]
    }
   ],
   "source": [
    "df_clean.info()"
   ]
  },
  {
   "cell_type": "markdown",
   "metadata": {},
   "source": [
    "### Consolidation of dataframes\n",
    "\n",
    "> In this section I´m going to consolidate both dataframes into files, that I´ll read for the next sections"
   ]
  },
  {
   "cell_type": "code",
   "execution_count": 52,
   "metadata": {},
   "outputs": [],
   "source": [
    "df_clean.to_csv('2018-19-bike-tripdata.csv', index = False)\n",
    "df_station.to_csv('2018-19-bike-stations-data.csv', index = False)"
   ]
  },
  {
   "cell_type": "markdown",
   "metadata": {},
   "source": [
    "## Univariate Exploration\n",
    "\n",
    "> In this section, I´ll investigate the distributions of individual variables. \n",
    "\n",
    "> I won´t investigate the columns of stations and bike ids, as they are just identifiers, and its value in a univariate exploration doesn´t make sense\n",
    "\n",
    "> First I´ll import the data stored previously in files"
   ]
  },
  {
   "cell_type": "code",
   "execution_count": 53,
   "metadata": {},
   "outputs": [],
   "source": [
    "df_trips = pd.read_csv('2018-19-bike-tripdata.csv')\n",
    "df_stations = pd.read_csv('2018-19-bike-stations-data.csv')"
   ]
  },
  {
   "cell_type": "code",
   "execution_count": 58,
   "metadata": {},
   "outputs": [],
   "source": [
    "#due to importing issues I change the format of date and month\n",
    "df_trips.start_time = pd.to_datetime(df_trips.start_time)\n",
    "df_trips.date = pd.to_datetime(df_trips.date, format='%Y/%m/%d')\n",
    "df_trips.month = pd.to_datetime(df_trips.month, format='%Y/%m')"
   ]
  },
  {
   "cell_type": "code",
   "execution_count": 59,
   "metadata": {},
   "outputs": [
    {
     "data": {
      "text/html": [
       "<div>\n",
       "<style scoped>\n",
       "    .dataframe tbody tr th:only-of-type {\n",
       "        vertical-align: middle;\n",
       "    }\n",
       "\n",
       "    .dataframe tbody tr th {\n",
       "        vertical-align: top;\n",
       "    }\n",
       "\n",
       "    .dataframe thead th {\n",
       "        text-align: right;\n",
       "    }\n",
       "</style>\n",
       "<table border=\"1\" class=\"dataframe\">\n",
       "  <thead>\n",
       "    <tr style=\"text-align: right;\">\n",
       "      <th></th>\n",
       "      <th>start_time</th>\n",
       "      <th>start_station_id</th>\n",
       "      <th>end_station_id</th>\n",
       "      <th>bike_id</th>\n",
       "      <th>user_type</th>\n",
       "      <th>duration_min</th>\n",
       "      <th>date</th>\n",
       "      <th>month</th>\n",
       "      <th>day_week</th>\n",
       "    </tr>\n",
       "  </thead>\n",
       "  <tbody>\n",
       "    <tr>\n",
       "      <td>0</td>\n",
       "      <td>2018-01-31 22:52:35.239</td>\n",
       "      <td>120.0</td>\n",
       "      <td>285.0</td>\n",
       "      <td>2765</td>\n",
       "      <td>Subscriber</td>\n",
       "      <td>1254.73</td>\n",
       "      <td>2018-01-31</td>\n",
       "      <td>2018-01-01</td>\n",
       "      <td>3</td>\n",
       "    </tr>\n",
       "    <tr>\n",
       "      <td>1</td>\n",
       "      <td>2018-01-31 16:13:34.351</td>\n",
       "      <td>15.0</td>\n",
       "      <td>15.0</td>\n",
       "      <td>2815</td>\n",
       "      <td>Customer</td>\n",
       "      <td>1423.70</td>\n",
       "      <td>2018-01-31</td>\n",
       "      <td>2018-01-01</td>\n",
       "      <td>3</td>\n",
       "    </tr>\n",
       "    <tr>\n",
       "      <td>2</td>\n",
       "      <td>2018-01-31 14:23:55.889</td>\n",
       "      <td>304.0</td>\n",
       "      <td>296.0</td>\n",
       "      <td>3039</td>\n",
       "      <td>Customer</td>\n",
       "      <td>1192.93</td>\n",
       "      <td>2018-01-31</td>\n",
       "      <td>2018-01-01</td>\n",
       "      <td>3</td>\n",
       "    </tr>\n",
       "    <tr>\n",
       "      <td>3</td>\n",
       "      <td>2018-01-31 14:53:23.562</td>\n",
       "      <td>75.0</td>\n",
       "      <td>47.0</td>\n",
       "      <td>321</td>\n",
       "      <td>Customer</td>\n",
       "      <td>1017.93</td>\n",
       "      <td>2018-01-31</td>\n",
       "      <td>2018-01-01</td>\n",
       "      <td>3</td>\n",
       "    </tr>\n",
       "    <tr>\n",
       "      <td>4</td>\n",
       "      <td>2018-01-31 19:52:24.667</td>\n",
       "      <td>74.0</td>\n",
       "      <td>19.0</td>\n",
       "      <td>617</td>\n",
       "      <td>Subscriber</td>\n",
       "      <td>666.10</td>\n",
       "      <td>2018-01-31</td>\n",
       "      <td>2018-01-01</td>\n",
       "      <td>3</td>\n",
       "    </tr>\n",
       "  </tbody>\n",
       "</table>\n",
       "</div>"
      ],
      "text/plain": [
       "               start_time  start_station_id  end_station_id  bike_id  \\\n",
       "0 2018-01-31 22:52:35.239             120.0           285.0     2765   \n",
       "1 2018-01-31 16:13:34.351              15.0            15.0     2815   \n",
       "2 2018-01-31 14:23:55.889             304.0           296.0     3039   \n",
       "3 2018-01-31 14:53:23.562              75.0            47.0      321   \n",
       "4 2018-01-31 19:52:24.667              74.0            19.0      617   \n",
       "\n",
       "    user_type  duration_min       date      month  day_week  \n",
       "0  Subscriber       1254.73 2018-01-31 2018-01-01         3  \n",
       "1    Customer       1423.70 2018-01-31 2018-01-01         3  \n",
       "2    Customer       1192.93 2018-01-31 2018-01-01         3  \n",
       "3    Customer       1017.93 2018-01-31 2018-01-01         3  \n",
       "4  Subscriber        666.10 2018-01-31 2018-01-01         3  "
      ]
     },
     "execution_count": 59,
     "metadata": {},
     "output_type": "execute_result"
    }
   ],
   "source": [
    "df_trips.head()"
   ]
  },
  {
   "cell_type": "code",
   "execution_count": 60,
   "metadata": {},
   "outputs": [
    {
     "name": "stdout",
     "output_type": "stream",
     "text": [
      "<class 'pandas.core.frame.DataFrame'>\n",
      "RangeIndex: 4370704 entries, 0 to 4370703\n",
      "Data columns (total 9 columns):\n",
      "start_time          datetime64[ns]\n",
      "start_station_id    float64\n",
      "end_station_id      float64\n",
      "bike_id             int64\n",
      "user_type           object\n",
      "duration_min        float64\n",
      "date                datetime64[ns]\n",
      "month               datetime64[ns]\n",
      "day_week            int64\n",
      "dtypes: datetime64[ns](3), float64(3), int64(2), object(1)\n",
      "memory usage: 300.1+ MB\n"
     ]
    }
   ],
   "source": [
    "df_trips.info()"
   ]
  },
  {
   "cell_type": "code",
   "execution_count": 63,
   "metadata": {},
   "outputs": [
    {
     "data": {
      "text/html": [
       "<div>\n",
       "<style scoped>\n",
       "    .dataframe tbody tr th:only-of-type {\n",
       "        vertical-align: middle;\n",
       "    }\n",
       "\n",
       "    .dataframe tbody tr th {\n",
       "        vertical-align: top;\n",
       "    }\n",
       "\n",
       "    .dataframe thead th {\n",
       "        text-align: right;\n",
       "    }\n",
       "</style>\n",
       "<table border=\"1\" class=\"dataframe\">\n",
       "  <thead>\n",
       "    <tr style=\"text-align: right;\">\n",
       "      <th></th>\n",
       "      <th>id</th>\n",
       "      <th>name</th>\n",
       "      <th>latitude</th>\n",
       "      <th>longitude</th>\n",
       "    </tr>\n",
       "  </thead>\n",
       "  <tbody>\n",
       "    <tr>\n",
       "      <td>0</td>\n",
       "      <td>120.0</td>\n",
       "      <td>Mission Dolores Park</td>\n",
       "      <td>37.761420</td>\n",
       "      <td>-122.426435</td>\n",
       "    </tr>\n",
       "    <tr>\n",
       "      <td>1</td>\n",
       "      <td>15.0</td>\n",
       "      <td>San Francisco Ferry Building (Harry Bridges Pl...</td>\n",
       "      <td>37.795392</td>\n",
       "      <td>-122.394203</td>\n",
       "    </tr>\n",
       "    <tr>\n",
       "      <td>2</td>\n",
       "      <td>304.0</td>\n",
       "      <td>Jackson St at 5th St</td>\n",
       "      <td>37.348759</td>\n",
       "      <td>-121.894798</td>\n",
       "    </tr>\n",
       "    <tr>\n",
       "      <td>3</td>\n",
       "      <td>75.0</td>\n",
       "      <td>Market St at Franklin St</td>\n",
       "      <td>37.773793</td>\n",
       "      <td>-122.421239</td>\n",
       "    </tr>\n",
       "    <tr>\n",
       "      <td>4</td>\n",
       "      <td>74.0</td>\n",
       "      <td>Laguna St at Hayes St</td>\n",
       "      <td>37.776435</td>\n",
       "      <td>-122.426244</td>\n",
       "    </tr>\n",
       "  </tbody>\n",
       "</table>\n",
       "</div>"
      ],
      "text/plain": [
       "      id                                               name   latitude  \\\n",
       "0  120.0                               Mission Dolores Park  37.761420   \n",
       "1   15.0  San Francisco Ferry Building (Harry Bridges Pl...  37.795392   \n",
       "2  304.0                               Jackson St at 5th St  37.348759   \n",
       "3   75.0                           Market St at Franklin St  37.773793   \n",
       "4   74.0                              Laguna St at Hayes St  37.776435   \n",
       "\n",
       "    longitude  \n",
       "0 -122.426435  \n",
       "1 -122.394203  \n",
       "2 -121.894798  \n",
       "3 -122.421239  \n",
       "4 -122.426244  "
      ]
     },
     "execution_count": 63,
     "metadata": {},
     "output_type": "execute_result"
    }
   ],
   "source": [
    "df_stations.head()"
   ]
  },
  {
   "cell_type": "code",
   "execution_count": 64,
   "metadata": {},
   "outputs": [
    {
     "name": "stdout",
     "output_type": "stream",
     "text": [
      "<class 'pandas.core.frame.DataFrame'>\n",
      "RangeIndex: 444 entries, 0 to 443\n",
      "Data columns (total 4 columns):\n",
      "id           444 non-null float64\n",
      "name         444 non-null object\n",
      "latitude     444 non-null float64\n",
      "longitude    444 non-null float64\n",
      "dtypes: float64(3), object(1)\n",
      "memory usage: 14.0+ KB\n"
     ]
    }
   ],
   "source": [
    "df_stations.info()"
   ]
  },
  {
   "cell_type": "markdown",
   "metadata": {},
   "source": [
    "### Variable 1: Duration of ride"
   ]
  },
  {
   "cell_type": "code",
   "execution_count": 65,
   "metadata": {},
   "outputs": [
    {
     "data": {
      "text/plain": [
       "count    4.370704e+06\n",
       "mean     1.381369e+01\n",
       "std      3.587473e+01\n",
       "min      1.000000e+00\n",
       "25%      5.920000e+00\n",
       "50%      9.400000e+00\n",
       "75%      1.468000e+01\n",
       "max      1.520183e+04\n",
       "Name: duration_min, dtype: float64"
      ]
     },
     "execution_count": 65,
     "metadata": {},
     "output_type": "execute_result"
    }
   ],
   "source": [
    "df_trips.duration_min.describe()"
   ]
  },
  {
   "cell_type": "code",
   "execution_count": 67,
   "metadata": {},
   "outputs": [
    {
     "data": {
      "text/plain": [
       "4220483        1.00\n",
       "3361756        1.00\n",
       "3352209        1.00\n",
       "3348039        1.00\n",
       "3285151        1.00\n",
       "             ...   \n",
       "3129388     1436.95\n",
       "4249258     1437.17\n",
       "1305040     1438.02\n",
       "187716      1439.43\n",
       "4344997    15201.83\n",
       "Name: duration_min, Length: 4370704, dtype: float64"
      ]
     },
     "execution_count": 67,
     "metadata": {},
     "output_type": "execute_result"
    }
   ],
   "source": [
    "df_trips.duration_min.sort_values()"
   ]
  },
  {
   "cell_type": "markdown",
   "metadata": {},
   "source": [
    "> There´s an outlier of 15201.83 minutes (around 10 days) that must be due to an error or incidence"
   ]
  },
  {
   "cell_type": "code",
   "execution_count": 68,
   "metadata": {},
   "outputs": [
    {
     "data": {
      "image/png": "[encoded data removed]",
      "text/plain": [
       "<Figure size 432x288 with 1 Axes>"
      ]
     },
     "metadata": {
      "needs_background": "light"
     },
     "output_type": "display_data"
    }
   ],
   "source": [
    "plt.hist(data = df_trips, x = 'duration_min');"
   ]
  },
  {
   "cell_type": "markdown",
   "metadata": {},
   "source": [
    "> I can see there are some outliers that don´t allow me to see correctly the histogram. I´ll zoom it"
   ]
  },
  {
   "cell_type": "code",
   "execution_count": 70,
   "metadata": {},
   "outputs": [
    {
     "data": {
      "image/png": "[encoded data removed]",
      "text/plain": [
       "<Figure size 432x288 with 1 Axes>"
      ]
     },
     "metadata": {
      "needs_background": "light"
     },
     "output_type": "display_data"
    }
   ],
   "source": [
    "bin_edges = np.arange(0, df_trips['duration_min'].max()+0.5, 0.5)\n",
    "plt.hist(data = df_trips, x = 'duration_min', bins = bin_edges);\n",
    "plt.xlim(0, 100);"
   ]
  },
  {
   "cell_type": "markdown",
   "metadata": {},
   "source": [
    "> The duration of the ride looks like a normal distribution but highly right skewed, that means that we will have to apply the log transformation to it. Most of the rides are of one hour or less"
   ]
  },
  {
   "cell_type": "code",
   "execution_count": 71,
   "metadata": {},
   "outputs": [
    {
     "data": {
      "image/png": "[encoded data removed]",
      "text/plain": [
       "<Figure size 720x360 with 2 Axes>"
      ]
     },
     "metadata": {
      "needs_background": "light"
     },
     "output_type": "display_data"
    }
   ],
   "source": [
    "plt.figure(figsize = [10, 5])\n",
    "\n",
    "# left histogram: data plotted in natural units\n",
    "plt.subplot(1, 2, 1)\n",
    "bin_edges = np.arange(0, df_trips['duration_min'].max()+0.5, 0.5)\n",
    "plt.hist(data = df_trips, x = 'duration_min', bins = bin_edges);\n",
    "plt.xlim(0, 100);\n",
    "plt.xlabel('values')\n",
    "\n",
    "# right histogram: data plotted after direct log transformation\n",
    "plt.subplot(1, 2, 2)\n",
    "log_data = np.log10(df_trips['duration_min']) # direct data transform\n",
    "plt.hist(log_data, bins = 40);\n",
    "plt.xlabel('log(values)');"
   ]
  },
  {
   "cell_type": "markdown",
   "metadata": {},
   "source": [
    "> The log transformation has worked well and now it looks like more likea normal distribution\n",
    "\n",
    "### Variable 2: Day of the ride\n",
    "\n",
    "> I´m going to check just the date, and not the day of the week and month, as these variables are dependent to the date, and just included on the dataframe for the multivariate analysis"
   ]
  },
  {
   "cell_type": "code",
   "execution_count": 75,
   "metadata": {},
   "outputs": [
    {
     "data": {
      "text/html": [
       "<div>\n",
       "<style scoped>\n",
       "    .dataframe tbody tr th:only-of-type {\n",
       "        vertical-align: middle;\n",
       "    }\n",
       "\n",
       "    .dataframe tbody tr th {\n",
       "        vertical-align: top;\n",
       "    }\n",
       "\n",
       "    .dataframe thead th {\n",
       "        text-align: right;\n",
       "    }\n",
       "</style>\n",
       "<table border=\"1\" class=\"dataframe\">\n",
       "  <thead>\n",
       "    <tr style=\"text-align: right;\">\n",
       "      <th></th>\n",
       "      <th>start_time</th>\n",
       "      <th>start_station_id</th>\n",
       "      <th>end_station_id</th>\n",
       "      <th>bike_id</th>\n",
       "      <th>user_type</th>\n",
       "      <th>duration_min</th>\n",
       "      <th>date</th>\n",
       "      <th>month</th>\n",
       "      <th>day_week</th>\n",
       "    </tr>\n",
       "  </thead>\n",
       "  <tbody>\n",
       "  </tbody>\n",
       "</table>\n",
       "</div>"
      ],
      "text/plain": [
       "Empty DataFrame\n",
       "Columns: [start_time, start_station_id, end_station_id, bike_id, user_type, duration_min, date, month, day_week]\n",
       "Index: []"
      ]
     },
     "execution_count": 75,
     "metadata": {},
     "output_type": "execute_result"
    }
   ],
   "source": [
    "df_trips[df_trips.date == 0]"
   ]
  },
  {
   "cell_type": "code",
   "execution_count": 78,
   "metadata": {},
   "outputs": [
    {
     "data": {
      "text/plain": [
       "(array([736695., 736785., 736876., 736968., 737060., 737150., 737241.,\n",
       "        737333., 737425.]), <a list of 9 Text xticklabel objects>)"
      ]
     },
     "execution_count": 78,
     "metadata": {},
     "output_type": "execute_result"
    },
    {
     "data": {
      "image/png": "[encoded data removed]",
      "text/plain": [
       "<Figure size 432x288 with 1 Axes>"
      ]
     },
     "metadata": {
      "needs_background": "light"
     },
     "output_type": "display_data"
    }
   ],
   "source": [
    "plt.hist(data = df_trips, x = 'date', bins = 100);\n",
    "plt.xticks(rotation='45')"
   ]
  },
  {
   "cell_type": "markdown",
   "metadata": {},
   "source": [
    "> The graph is bimodal, number of rides increase in the middle of each year and decrease a lot at the end and beggining of it. In 2019 there are some peaks of usage\n",
    "\n",
    "### Variable 3: User Type"
   ]
  },
  {
   "cell_type": "code",
   "execution_count": 79,
   "metadata": {},
   "outputs": [
    {
     "data": {
      "text/html": [
       "<div>\n",
       "<style scoped>\n",
       "    .dataframe tbody tr th:only-of-type {\n",
       "        vertical-align: middle;\n",
       "    }\n",
       "\n",
       "    .dataframe tbody tr th {\n",
       "        vertical-align: top;\n",
       "    }\n",
       "\n",
       "    .dataframe thead th {\n",
       "        text-align: right;\n",
       "    }\n",
       "</style>\n",
       "<table border=\"1\" class=\"dataframe\">\n",
       "  <thead>\n",
       "    <tr style=\"text-align: right;\">\n",
       "      <th></th>\n",
       "      <th>start_time</th>\n",
       "      <th>start_station_id</th>\n",
       "      <th>end_station_id</th>\n",
       "      <th>bike_id</th>\n",
       "      <th>user_type</th>\n",
       "      <th>duration_min</th>\n",
       "      <th>date</th>\n",
       "      <th>month</th>\n",
       "      <th>day_week</th>\n",
       "    </tr>\n",
       "  </thead>\n",
       "  <tbody>\n",
       "    <tr>\n",
       "      <td>0</td>\n",
       "      <td>2018-01-31 22:52:35.239</td>\n",
       "      <td>120.0</td>\n",
       "      <td>285.0</td>\n",
       "      <td>2765</td>\n",
       "      <td>Subscriber</td>\n",
       "      <td>1254.73</td>\n",
       "      <td>2018-01-31</td>\n",
       "      <td>2018-01-01</td>\n",
       "      <td>3</td>\n",
       "    </tr>\n",
       "    <tr>\n",
       "      <td>1</td>\n",
       "      <td>2018-01-31 16:13:34.351</td>\n",
       "      <td>15.0</td>\n",
       "      <td>15.0</td>\n",
       "      <td>2815</td>\n",
       "      <td>Customer</td>\n",
       "      <td>1423.70</td>\n",
       "      <td>2018-01-31</td>\n",
       "      <td>2018-01-01</td>\n",
       "      <td>3</td>\n",
       "    </tr>\n",
       "    <tr>\n",
       "      <td>2</td>\n",
       "      <td>2018-01-31 14:23:55.889</td>\n",
       "      <td>304.0</td>\n",
       "      <td>296.0</td>\n",
       "      <td>3039</td>\n",
       "      <td>Customer</td>\n",
       "      <td>1192.93</td>\n",
       "      <td>2018-01-31</td>\n",
       "      <td>2018-01-01</td>\n",
       "      <td>3</td>\n",
       "    </tr>\n",
       "    <tr>\n",
       "      <td>3</td>\n",
       "      <td>2018-01-31 14:53:23.562</td>\n",
       "      <td>75.0</td>\n",
       "      <td>47.0</td>\n",
       "      <td>321</td>\n",
       "      <td>Customer</td>\n",
       "      <td>1017.93</td>\n",
       "      <td>2018-01-31</td>\n",
       "      <td>2018-01-01</td>\n",
       "      <td>3</td>\n",
       "    </tr>\n",
       "    <tr>\n",
       "      <td>4</td>\n",
       "      <td>2018-01-31 19:52:24.667</td>\n",
       "      <td>74.0</td>\n",
       "      <td>19.0</td>\n",
       "      <td>617</td>\n",
       "      <td>Subscriber</td>\n",
       "      <td>666.10</td>\n",
       "      <td>2018-01-31</td>\n",
       "      <td>2018-01-01</td>\n",
       "      <td>3</td>\n",
       "    </tr>\n",
       "  </tbody>\n",
       "</table>\n",
       "</div>"
      ],
      "text/plain": [
       "               start_time  start_station_id  end_station_id  bike_id  \\\n",
       "0 2018-01-31 22:52:35.239             120.0           285.0     2765   \n",
       "1 2018-01-31 16:13:34.351              15.0            15.0     2815   \n",
       "2 2018-01-31 14:23:55.889             304.0           296.0     3039   \n",
       "3 2018-01-31 14:53:23.562              75.0            47.0      321   \n",
       "4 2018-01-31 19:52:24.667              74.0            19.0      617   \n",
       "\n",
       "    user_type  duration_min       date      month  day_week  \n",
       "0  Subscriber       1254.73 2018-01-31 2018-01-01         3  \n",
       "1    Customer       1423.70 2018-01-31 2018-01-01         3  \n",
       "2    Customer       1192.93 2018-01-31 2018-01-01         3  \n",
       "3    Customer       1017.93 2018-01-31 2018-01-01         3  \n",
       "4  Subscriber        666.10 2018-01-31 2018-01-01         3  "
      ]
     },
     "execution_count": 79,
     "metadata": {},
     "output_type": "execute_result"
    }
   ],
   "source": [
    "df_trips.head()"
   ]
  },
  {
   "cell_type": "code",
   "execution_count": 80,
   "metadata": {},
   "outputs": [
    {
     "data": {
      "image/png": "[encoded data removed]",
      "text/plain": [
       "<Figure size 720x360 with 2 Axes>"
      ]
     },
     "metadata": {
      "needs_background": "light"
     },
     "output_type": "display_data"
    }
   ],
   "source": [
    "plt.figure(figsize = [10, 5])\n",
    "\n",
    "# left histogram: user types in absolute numbers\n",
    "plt.subplot(1, 2, 1)\n",
    "base_color = sb.color_palette()[0]\n",
    "sb.countplot(data = df_trips, x = 'user_type', color = base_color);\n",
    "\n",
    "# Right histogram: user types in relative frequencies\n",
    "# get proportion taken by most common group for derivation\n",
    "# of tick marks\n",
    "n_points = df_trips.shape[0]\n",
    "max_count = df_trips['user_type'].value_counts().max()\n",
    "max_prop = max_count / n_points\n",
    "\n",
    "# generate tick mark locations and names\n",
    "tick_props = np.arange(0, max_prop, 0.2)\n",
    "tick_names = ['{:0.2f}'.format(v) for v in tick_props]\n",
    "\n",
    "# create the plot\n",
    "plt.subplot(1, 2, 2)\n",
    "base_color = sb.color_palette()[0]\n",
    "sb.countplot(data = df_trips, x = 'user_type', color = base_color);\n",
    "plt.yticks(tick_props * n_points, tick_names)\n",
    "plt.ylabel('proportion');\n",
    "\n"
   ]
  },
  {
   "cell_type": "markdown",
   "metadata": {},
   "source": [
    "> More than 80% of the rides are done by subscribers"
   ]
  },
  {
   "cell_type": "markdown",
   "metadata": {},
   "source": [
    "## Bivariate Exploration\n",
    "\n",
    "> In this section, I will investigate relationships between pairs of variables in my data.\n",
    "\n",
    "> My objective is try to relate the duration and the number of trips to the month and day of the week"
   ]
  },
  {
   "cell_type": "markdown",
   "metadata": {},
   "source": [
    "### Duration vs Date\n",
    "\n",
    "> Let´s see the dependency of the duration of the rides with the date for having a general view of its behaviour, as we are just going to focus on the relationship with month and day of the week"
   ]
  },
  {
   "cell_type": "code",
   "execution_count": 83,
   "metadata": {},
   "outputs": [
    {
     "data": {
      "image/png": "[encoded data removed]",
      "text/plain": [
       "<Figure size 432x288 with 1 Axes>"
      ]
     },
     "metadata": {
      "needs_background": "light"
     },
     "output_type": "display_data"
    }
   ],
   "source": [
    "plt.scatter(data = df_trips, x = 'date', y = 'duration_min', alpha = 1/10)\n",
    "plt.ylim(0, 2000);"
   ]
  },
  {
   "cell_type": "markdown",
   "metadata": {},
   "source": [
    "> In this scatter plot, due to the huge amount of data is difficult to get conclusions, but we can see there´s not too much correlation between both variables, as it seems the behavior of the duration it´s similar over the two years"
   ]
  },
  {
   "cell_type": "markdown",
   "metadata": {},
   "source": [
    "### Duration vs Month\n",
    "\n",
    "> Let´s see the dependency of the duration of the rides with the month of the ride"
   ]
  },
  {
   "cell_type": "code",
   "execution_count": 87,
   "metadata": {},
   "outputs": [
    {
     "data": {
      "image/png": "[encoded data removed]",
      "text/plain": [
       "<Figure size 432x288 with 1 Axes>"
      ]
     },
     "metadata": {
      "needs_background": "light"
     },
     "output_type": "display_data"
    }
   ],
   "source": [
    "plt.scatter(data = df_trips, x = 'month', y = 'duration_min', alpha = 1/10)\n",
    "plt.ylim(0, 2000);"
   ]
  },
  {
   "cell_type": "markdown",
   "metadata": {},
   "source": [
    "> There are differences but it´s not possible to get a pattern. Let´s plot the average duration per month to see what happens"
   ]
  },
  {
   "cell_type": "code",
   "execution_count": 88,
   "metadata": {},
   "outputs": [
    {
     "data": {
      "text/html": [
       "<div>\n",
       "<style scoped>\n",
       "    .dataframe tbody tr th:only-of-type {\n",
       "        vertical-align: middle;\n",
       "    }\n",
       "\n",
       "    .dataframe tbody tr th {\n",
       "        vertical-align: top;\n",
       "    }\n",
       "\n",
       "    .dataframe thead th {\n",
       "        text-align: right;\n",
       "    }\n",
       "</style>\n",
       "<table border=\"1\" class=\"dataframe\">\n",
       "  <thead>\n",
       "    <tr style=\"text-align: right;\">\n",
       "      <th></th>\n",
       "      <th>month</th>\n",
       "      <th>avg_duration_min</th>\n",
       "    </tr>\n",
       "  </thead>\n",
       "  <tbody>\n",
       "    <tr>\n",
       "      <td>0</td>\n",
       "      <td>2018-01-01</td>\n",
       "      <td>14.515603</td>\n",
       "    </tr>\n",
       "    <tr>\n",
       "      <td>1</td>\n",
       "      <td>2018-02-01</td>\n",
       "      <td>14.644357</td>\n",
       "    </tr>\n",
       "    <tr>\n",
       "      <td>2</td>\n",
       "      <td>2018-03-01</td>\n",
       "      <td>14.510820</td>\n",
       "    </tr>\n",
       "    <tr>\n",
       "      <td>3</td>\n",
       "      <td>2018-04-01</td>\n",
       "      <td>14.765474</td>\n",
       "    </tr>\n",
       "    <tr>\n",
       "      <td>4</td>\n",
       "      <td>2018-05-01</td>\n",
       "      <td>14.248408</td>\n",
       "    </tr>\n",
       "    <tr>\n",
       "      <td>5</td>\n",
       "      <td>2018-06-01</td>\n",
       "      <td>15.129144</td>\n",
       "    </tr>\n",
       "    <tr>\n",
       "      <td>6</td>\n",
       "      <td>2018-07-01</td>\n",
       "      <td>15.128504</td>\n",
       "    </tr>\n",
       "    <tr>\n",
       "      <td>7</td>\n",
       "      <td>2018-08-01</td>\n",
       "      <td>14.517548</td>\n",
       "    </tr>\n",
       "    <tr>\n",
       "      <td>8</td>\n",
       "      <td>2018-09-01</td>\n",
       "      <td>14.668802</td>\n",
       "    </tr>\n",
       "    <tr>\n",
       "      <td>9</td>\n",
       "      <td>2018-10-01</td>\n",
       "      <td>13.419798</td>\n",
       "    </tr>\n",
       "    <tr>\n",
       "      <td>10</td>\n",
       "      <td>2018-11-01</td>\n",
       "      <td>12.632562</td>\n",
       "    </tr>\n",
       "    <tr>\n",
       "      <td>11</td>\n",
       "      <td>2018-12-01</td>\n",
       "      <td>12.844592</td>\n",
       "    </tr>\n",
       "    <tr>\n",
       "      <td>12</td>\n",
       "      <td>2019-01-01</td>\n",
       "      <td>12.515879</td>\n",
       "    </tr>\n",
       "    <tr>\n",
       "      <td>13</td>\n",
       "      <td>2019-02-01</td>\n",
       "      <td>12.101301</td>\n",
       "    </tr>\n",
       "    <tr>\n",
       "      <td>14</td>\n",
       "      <td>2019-03-01</td>\n",
       "      <td>13.464565</td>\n",
       "    </tr>\n",
       "    <tr>\n",
       "      <td>15</td>\n",
       "      <td>2019-04-01</td>\n",
       "      <td>13.377864</td>\n",
       "    </tr>\n",
       "    <tr>\n",
       "      <td>16</td>\n",
       "      <td>2019-05-01</td>\n",
       "      <td>13.204363</td>\n",
       "    </tr>\n",
       "    <tr>\n",
       "      <td>17</td>\n",
       "      <td>2019-06-01</td>\n",
       "      <td>14.030238</td>\n",
       "    </tr>\n",
       "    <tr>\n",
       "      <td>18</td>\n",
       "      <td>2019-07-01</td>\n",
       "      <td>14.028600</td>\n",
       "    </tr>\n",
       "    <tr>\n",
       "      <td>19</td>\n",
       "      <td>2019-08-01</td>\n",
       "      <td>13.891904</td>\n",
       "    </tr>\n",
       "    <tr>\n",
       "      <td>20</td>\n",
       "      <td>2019-09-01</td>\n",
       "      <td>14.072662</td>\n",
       "    </tr>\n",
       "    <tr>\n",
       "      <td>21</td>\n",
       "      <td>2019-10-01</td>\n",
       "      <td>13.773592</td>\n",
       "    </tr>\n",
       "    <tr>\n",
       "      <td>22</td>\n",
       "      <td>2019-11-01</td>\n",
       "      <td>13.374669</td>\n",
       "    </tr>\n",
       "    <tr>\n",
       "      <td>23</td>\n",
       "      <td>2019-12-01</td>\n",
       "      <td>13.177504</td>\n",
       "    </tr>\n",
       "  </tbody>\n",
       "</table>\n",
       "</div>"
      ],
      "text/plain": [
       "        month  avg_duration_min\n",
       "0  2018-01-01         14.515603\n",
       "1  2018-02-01         14.644357\n",
       "2  2018-03-01         14.510820\n",
       "3  2018-04-01         14.765474\n",
       "4  2018-05-01         14.248408\n",
       "5  2018-06-01         15.129144\n",
       "6  2018-07-01         15.128504\n",
       "7  2018-08-01         14.517548\n",
       "8  2018-09-01         14.668802\n",
       "9  2018-10-01         13.419798\n",
       "10 2018-11-01         12.632562\n",
       "11 2018-12-01         12.844592\n",
       "12 2019-01-01         12.515879\n",
       "13 2019-02-01         12.101301\n",
       "14 2019-03-01         13.464565\n",
       "15 2019-04-01         13.377864\n",
       "16 2019-05-01         13.204363\n",
       "17 2019-06-01         14.030238\n",
       "18 2019-07-01         14.028600\n",
       "19 2019-08-01         13.891904\n",
       "20 2019-09-01         14.072662\n",
       "21 2019-10-01         13.773592\n",
       "22 2019-11-01         13.374669\n",
       "23 2019-12-01         13.177504"
      ]
     },
     "execution_count": 88,
     "metadata": {},
     "output_type": "execute_result"
    }
   ],
   "source": [
    "df_trips_avg_dur = df_trips.groupby('month').mean()['duration_min'].to_frame()\n",
    "df_trips_avg_dur.reset_index(level=0, inplace=True)\n",
    "df_trips_avg_dur.columns = ['month', 'avg_duration_min']\n",
    "df_trips_avg_dur"
   ]
  },
  {
   "cell_type": "code",
   "execution_count": 89,
   "metadata": {},
   "outputs": [
    {
     "data": {
      "text/plain": [
       "<matplotlib.axes._subplots.AxesSubplot at 0x1d3e7d06a08>"
      ]
     },
     "execution_count": 89,
     "metadata": {},
     "output_type": "execute_result"
    },
    {
     "data": {
      "image/png": "[encoded data removed]",
      "text/plain": [
       "<Figure size 432x288 with 1 Axes>"
      ]
     },
     "metadata": {
      "needs_background": "light"
     },
     "output_type": "display_data"
    }
   ],
   "source": [
    "df_trips_avg_dur.plot.bar(x='month', y='avg_duration_min', rot=0)"
   ]
  },
  {
   "cell_type": "markdown",
   "metadata": {},
   "source": [
    "> The average duration per month vary from 12.1 to 15.13, being the biggest difference 3 minutes. Altough there´s a relationship and the average duration varies per month the difference is not very big, so we can say there´s no importan correspondence between duration and month"
   ]
  },
  {
   "cell_type": "markdown",
   "metadata": {},
   "source": [
    "### Duration vs Day of the week\n",
    "\n",
    "> Let´s see the dependency of the duration of the rides with the day of the week of the ride"
   ]
  },
  {
   "cell_type": "code",
   "execution_count": 103,
   "metadata": {},
   "outputs": [
    {
     "data": {
      "text/plain": [
       "<matplotlib.axes._subplots.AxesSubplot at 0x1d3e8ddefc8>"
      ]
     },
     "execution_count": 103,
     "metadata": {},
     "output_type": "execute_result"
    },
    {
     "data": {
      "image/png": "[encoded data removed]",
      "text/plain": [
       "<Figure size 720x360 with 2 Axes>"
      ]
     },
     "metadata": {
      "needs_background": "light"
     },
     "output_type": "display_data"
    }
   ],
   "source": [
    "plt.figure(figsize = [10, 5])\n",
    "\n",
    "# left scatter plot\n",
    "plt.subplot(1, 2, 1)\n",
    "plt.scatter(data = df_trips, x = 'day_week', y = 'duration_min', alpha = 1/10)\n",
    "plt.ylim(0, 2000);\n",
    "\n",
    "# left violin plots\n",
    "plt.subplot(1, 2, 2)\n",
    "sb.violinplot(data = df_trips, x = 'day_week', y = 'duration_min')"
   ]
  },
  {
   "cell_type": "markdown",
   "metadata": {},
   "source": [
    "> There are differences but it´s not possible to get a pattern in both scatter and violin plots. In violin plots there´s a great difference on thursday but it seems due to outliers or errors\n",
    "\n",
    "> I´m going to plot the average duration per day of the week and see if we can get something clearer"
   ]
  },
  {
   "cell_type": "code",
   "execution_count": 92,
   "metadata": {},
   "outputs": [
    {
     "data": {
      "text/html": [
       "<div>\n",
       "<style scoped>\n",
       "    .dataframe tbody tr th:only-of-type {\n",
       "        vertical-align: middle;\n",
       "    }\n",
       "\n",
       "    .dataframe tbody tr th {\n",
       "        vertical-align: top;\n",
       "    }\n",
       "\n",
       "    .dataframe thead th {\n",
       "        text-align: right;\n",
       "    }\n",
       "</style>\n",
       "<table border=\"1\" class=\"dataframe\">\n",
       "  <thead>\n",
       "    <tr style=\"text-align: right;\">\n",
       "      <th></th>\n",
       "      <th>day_week</th>\n",
       "      <th>avg_duration_min</th>\n",
       "    </tr>\n",
       "  </thead>\n",
       "  <tbody>\n",
       "    <tr>\n",
       "      <td>0</td>\n",
       "      <td>1</td>\n",
       "      <td>12.831439</td>\n",
       "    </tr>\n",
       "    <tr>\n",
       "      <td>1</td>\n",
       "      <td>2</td>\n",
       "      <td>12.508965</td>\n",
       "    </tr>\n",
       "    <tr>\n",
       "      <td>2</td>\n",
       "      <td>3</td>\n",
       "      <td>12.551884</td>\n",
       "    </tr>\n",
       "    <tr>\n",
       "      <td>3</td>\n",
       "      <td>4</td>\n",
       "      <td>12.693058</td>\n",
       "    </tr>\n",
       "    <tr>\n",
       "      <td>4</td>\n",
       "      <td>5</td>\n",
       "      <td>13.330749</td>\n",
       "    </tr>\n",
       "    <tr>\n",
       "      <td>5</td>\n",
       "      <td>6</td>\n",
       "      <td>18.636809</td>\n",
       "    </tr>\n",
       "    <tr>\n",
       "      <td>6</td>\n",
       "      <td>7</td>\n",
       "      <td>18.621779</td>\n",
       "    </tr>\n",
       "  </tbody>\n",
       "</table>\n",
       "</div>"
      ],
      "text/plain": [
       "   day_week  avg_duration_min\n",
       "0         1         12.831439\n",
       "1         2         12.508965\n",
       "2         3         12.551884\n",
       "3         4         12.693058\n",
       "4         5         13.330749\n",
       "5         6         18.636809\n",
       "6         7         18.621779"
      ]
     },
     "execution_count": 92,
     "metadata": {},
     "output_type": "execute_result"
    }
   ],
   "source": [
    "df_trips_avg_dur_dw = df_trips.groupby('day_week').mean()['duration_min'].to_frame()\n",
    "df_trips_avg_dur_dw.reset_index(level=0, inplace=True)\n",
    "df_trips_avg_dur_dw.columns = ['day_week', 'avg_duration_min']\n",
    "df_trips_avg_dur_dw"
   ]
  },
  {
   "cell_type": "code",
   "execution_count": 93,
   "metadata": {},
   "outputs": [
    {
     "data": {
      "text/plain": [
       "<matplotlib.axes._subplots.AxesSubplot at 0x1d4e936bf48>"
      ]
     },
     "execution_count": 93,
     "metadata": {},
     "output_type": "execute_result"
    },
    {
     "data": {
      "image/png": "[encoded data removed]",
      "text/plain": [
       "<Figure size 432x288 with 1 Axes>"
      ]
     },
     "metadata": {
      "needs_background": "light"
     },
     "output_type": "display_data"
    }
   ],
   "source": [
    "df_trips_avg_dur_dw.plot.bar(x='day_week', y='avg_duration_min', rot=0)"
   ]
  },
  {
   "cell_type": "markdown",
   "metadata": {},
   "source": [
    "> Here we can see there´s a lot of difference between the average duration during the weekend than the rest of the days of the week, so we keep this relationship for further analysis"
   ]
  },
  {
   "cell_type": "markdown",
   "metadata": {},
   "source": [
    "### Number of trips vs Month\n",
    "\n",
    "> Let´s see the dependency of the number of trips with date. We saw on the univariate exploration of the date that the graph is bimodal, number of rides increase in the middle of each year and decrease a lot at the end and beggining of it. In 2019 there are some peaks of usage, but we want to see it better plotting the number of trips against the month"
   ]
  },
  {
   "cell_type": "code",
   "execution_count": 96,
   "metadata": {},
   "outputs": [
    {
     "data": {
      "text/plain": [
       "(array([736695., 736785., 736876., 736968., 737060., 737150., 737241.,\n",
       "        737333., 737425.]), <a list of 9 Text xticklabel objects>)"
      ]
     },
     "execution_count": 96,
     "metadata": {},
     "output_type": "execute_result"
    },
    {
     "data": {
      "image/png": "[encoded data removed]",
      "text/plain": [
       "<Figure size 432x288 with 1 Axes>"
      ]
     },
     "metadata": {
      "needs_background": "light"
     },
     "output_type": "display_data"
    }
   ],
   "source": [
    "plt.hist(data = df_trips, x = 'month', bins = 24);\n",
    "plt.xticks(rotation='45');"
   ]
  },
  {
   "cell_type": "markdown",
   "metadata": {},
   "source": [
    "> This confirms the prior plot with its bimodal behaviour"
   ]
  },
  {
   "cell_type": "markdown",
   "metadata": {},
   "source": [
    "### Number of trips vs Day of the week\n",
    "\n",
    "> Let´s see the dependency of the number of trips with the day of the week"
   ]
  },
  {
   "cell_type": "code",
   "execution_count": 98,
   "metadata": {},
   "outputs": [
    {
     "data": {
      "image/png": "[encoded data removed]",
      "text/plain": [
       "<Figure size 432x288 with 1 Axes>"
      ]
     },
     "metadata": {
      "needs_background": "light"
     },
     "output_type": "display_data"
    }
   ],
   "source": [
    "plt.hist(data = df_trips, x = 'day_week');\n",
    "# plt.xticks(rotation='45')"
   ]
  },
  {
   "cell_type": "markdown",
   "metadata": {},
   "source": [
    "> Clearly the number of trips descend during the weekend, so the relationship is clear"
   ]
  },
  {
   "cell_type": "markdown",
   "metadata": {},
   "source": [
    "#### Conclussions\n",
    "\n",
    "> We´ve seen the next correlations:\n",
    "\n",
    ">- The duration of the trip depends on the day of the week\n",
    "\n",
    ">- The number of trips depend on the day of the week and the month"
   ]
  },
  {
   "cell_type": "markdown",
   "metadata": {},
   "source": [
    "## Multivariate Exploration\n",
    "\n",
    "> In this part I´m going to add the variable type of user against the three already proved relationships"
   ]
  },
  {
   "cell_type": "markdown",
   "metadata": {},
   "source": [
    "### Duration vs Weekday vs User\n",
    "\n",
    "> We´re going to certify that there´s a relationship between duration of the trip, the weekday and the type of user\n",
    "\n",
    "> As we could see before the information is not clear throuth pure scatter and violin plots, so we´re going to calculate the averages\n"
   ]
  },
  {
   "cell_type": "code",
   "execution_count": 104,
   "metadata": {},
   "outputs": [
    {
     "data": {
      "text/html": [
       "<div>\n",
       "<style scoped>\n",
       "    .dataframe tbody tr th:only-of-type {\n",
       "        vertical-align: middle;\n",
       "    }\n",
       "\n",
       "    .dataframe tbody tr th {\n",
       "        vertical-align: top;\n",
       "    }\n",
       "\n",
       "    .dataframe thead th {\n",
       "        text-align: right;\n",
       "    }\n",
       "</style>\n",
       "<table border=\"1\" class=\"dataframe\">\n",
       "  <thead>\n",
       "    <tr style=\"text-align: right;\">\n",
       "      <th></th>\n",
       "      <th>start_time</th>\n",
       "      <th>start_station_id</th>\n",
       "      <th>end_station_id</th>\n",
       "      <th>bike_id</th>\n",
       "      <th>user_type</th>\n",
       "      <th>duration_min</th>\n",
       "      <th>date</th>\n",
       "      <th>month</th>\n",
       "      <th>day_week</th>\n",
       "    </tr>\n",
       "  </thead>\n",
       "  <tbody>\n",
       "    <tr>\n",
       "      <td>0</td>\n",
       "      <td>2018-01-31 22:52:35.239</td>\n",
       "      <td>120.0</td>\n",
       "      <td>285.0</td>\n",
       "      <td>2765</td>\n",
       "      <td>Subscriber</td>\n",
       "      <td>1254.73</td>\n",
       "      <td>2018-01-31</td>\n",
       "      <td>2018-01-01</td>\n",
       "      <td>3</td>\n",
       "    </tr>\n",
       "    <tr>\n",
       "      <td>1</td>\n",
       "      <td>2018-01-31 16:13:34.351</td>\n",
       "      <td>15.0</td>\n",
       "      <td>15.0</td>\n",
       "      <td>2815</td>\n",
       "      <td>Customer</td>\n",
       "      <td>1423.70</td>\n",
       "      <td>2018-01-31</td>\n",
       "      <td>2018-01-01</td>\n",
       "      <td>3</td>\n",
       "    </tr>\n",
       "    <tr>\n",
       "      <td>2</td>\n",
       "      <td>2018-01-31 14:23:55.889</td>\n",
       "      <td>304.0</td>\n",
       "      <td>296.0</td>\n",
       "      <td>3039</td>\n",
       "      <td>Customer</td>\n",
       "      <td>1192.93</td>\n",
       "      <td>2018-01-31</td>\n",
       "      <td>2018-01-01</td>\n",
       "      <td>3</td>\n",
       "    </tr>\n",
       "    <tr>\n",
       "      <td>3</td>\n",
       "      <td>2018-01-31 14:53:23.562</td>\n",
       "      <td>75.0</td>\n",
       "      <td>47.0</td>\n",
       "      <td>321</td>\n",
       "      <td>Customer</td>\n",
       "      <td>1017.93</td>\n",
       "      <td>2018-01-31</td>\n",
       "      <td>2018-01-01</td>\n",
       "      <td>3</td>\n",
       "    </tr>\n",
       "    <tr>\n",
       "      <td>4</td>\n",
       "      <td>2018-01-31 19:52:24.667</td>\n",
       "      <td>74.0</td>\n",
       "      <td>19.0</td>\n",
       "      <td>617</td>\n",
       "      <td>Subscriber</td>\n",
       "      <td>666.10</td>\n",
       "      <td>2018-01-31</td>\n",
       "      <td>2018-01-01</td>\n",
       "      <td>3</td>\n",
       "    </tr>\n",
       "  </tbody>\n",
       "</table>\n",
       "</div>"
      ],
      "text/plain": [
       "               start_time  start_station_id  end_station_id  bike_id  \\\n",
       "0 2018-01-31 22:52:35.239             120.0           285.0     2765   \n",
       "1 2018-01-31 16:13:34.351              15.0            15.0     2815   \n",
       "2 2018-01-31 14:23:55.889             304.0           296.0     3039   \n",
       "3 2018-01-31 14:53:23.562              75.0            47.0      321   \n",
       "4 2018-01-31 19:52:24.667              74.0            19.0      617   \n",
       "\n",
       "    user_type  duration_min       date      month  day_week  \n",
       "0  Subscriber       1254.73 2018-01-31 2018-01-01         3  \n",
       "1    Customer       1423.70 2018-01-31 2018-01-01         3  \n",
       "2    Customer       1192.93 2018-01-31 2018-01-01         3  \n",
       "3    Customer       1017.93 2018-01-31 2018-01-01         3  \n",
       "4  Subscriber        666.10 2018-01-31 2018-01-01         3  "
      ]
     },
     "execution_count": 104,
     "metadata": {},
     "output_type": "execute_result"
    }
   ],
   "source": [
    "df_trips.head()"
   ]
  },
  {
   "cell_type": "code",
   "execution_count": 109,
   "metadata": {},
   "outputs": [
    {
     "data": {
      "text/html": [
       "<div>\n",
       "<style scoped>\n",
       "    .dataframe tbody tr th:only-of-type {\n",
       "        vertical-align: middle;\n",
       "    }\n",
       "\n",
       "    .dataframe tbody tr th {\n",
       "        vertical-align: top;\n",
       "    }\n",
       "\n",
       "    .dataframe thead th {\n",
       "        text-align: right;\n",
       "    }\n",
       "</style>\n",
       "<table border=\"1\" class=\"dataframe\">\n",
       "  <thead>\n",
       "    <tr style=\"text-align: right;\">\n",
       "      <th></th>\n",
       "      <th>day_week</th>\n",
       "      <th>duration_min</th>\n",
       "    </tr>\n",
       "  </thead>\n",
       "  <tbody>\n",
       "    <tr>\n",
       "      <td>0</td>\n",
       "      <td>1</td>\n",
       "      <td>10.946195</td>\n",
       "    </tr>\n",
       "    <tr>\n",
       "      <td>1</td>\n",
       "      <td>2</td>\n",
       "      <td>10.862461</td>\n",
       "    </tr>\n",
       "    <tr>\n",
       "      <td>2</td>\n",
       "      <td>3</td>\n",
       "      <td>10.951323</td>\n",
       "    </tr>\n",
       "    <tr>\n",
       "      <td>3</td>\n",
       "      <td>4</td>\n",
       "      <td>10.927581</td>\n",
       "    </tr>\n",
       "    <tr>\n",
       "      <td>4</td>\n",
       "      <td>5</td>\n",
       "      <td>11.088346</td>\n",
       "    </tr>\n",
       "    <tr>\n",
       "      <td>5</td>\n",
       "      <td>6</td>\n",
       "      <td>12.698212</td>\n",
       "    </tr>\n",
       "    <tr>\n",
       "      <td>6</td>\n",
       "      <td>7</td>\n",
       "      <td>12.720300</td>\n",
       "    </tr>\n",
       "  </tbody>\n",
       "</table>\n",
       "</div>"
      ],
      "text/plain": [
       "   day_week  duration_min\n",
       "0         1     10.946195\n",
       "1         2     10.862461\n",
       "2         3     10.951323\n",
       "3         4     10.927581\n",
       "4         5     11.088346\n",
       "5         6     12.698212\n",
       "6         7     12.720300"
      ]
     },
     "execution_count": 109,
     "metadata": {},
     "output_type": "execute_result"
    }
   ],
   "source": [
    "df_trips_subs =  df_trips[df_trips.user_type == 'Subscriber'][['user_type', 'duration_min','day_week']]\n",
    "df_trips_subs_dur_usr = df_trips_subs.groupby('day_week').mean()['duration_min'].to_frame()\n",
    "df_trips_subs_dur_usr.reset_index(level=0, inplace=True)\n",
    "df_trips_subs_dur_usr.columns = ['day_week', 'duration_min']\n",
    "df_trips_subs_dur_usr"
   ]
  },
  {
   "cell_type": "code",
   "execution_count": 110,
   "metadata": {},
   "outputs": [
    {
     "data": {
      "text/html": [
       "<div>\n",
       "<style scoped>\n",
       "    .dataframe tbody tr th:only-of-type {\n",
       "        vertical-align: middle;\n",
       "    }\n",
       "\n",
       "    .dataframe tbody tr th {\n",
       "        vertical-align: top;\n",
       "    }\n",
       "\n",
       "    .dataframe thead th {\n",
       "        text-align: right;\n",
       "    }\n",
       "</style>\n",
       "<table border=\"1\" class=\"dataframe\">\n",
       "  <thead>\n",
       "    <tr style=\"text-align: right;\">\n",
       "      <th></th>\n",
       "      <th>day_week</th>\n",
       "      <th>duration_min</th>\n",
       "    </tr>\n",
       "  </thead>\n",
       "  <tbody>\n",
       "    <tr>\n",
       "      <td>0</td>\n",
       "      <td>1</td>\n",
       "      <td>23.936495</td>\n",
       "    </tr>\n",
       "    <tr>\n",
       "      <td>1</td>\n",
       "      <td>2</td>\n",
       "      <td>22.780600</td>\n",
       "    </tr>\n",
       "    <tr>\n",
       "      <td>2</td>\n",
       "      <td>3</td>\n",
       "      <td>22.442992</td>\n",
       "    </tr>\n",
       "    <tr>\n",
       "      <td>3</td>\n",
       "      <td>4</td>\n",
       "      <td>23.011746</td>\n",
       "    </tr>\n",
       "    <tr>\n",
       "      <td>4</td>\n",
       "      <td>5</td>\n",
       "      <td>24.221834</td>\n",
       "    </tr>\n",
       "    <tr>\n",
       "      <td>5</td>\n",
       "      <td>6</td>\n",
       "      <td>32.087017</td>\n",
       "    </tr>\n",
       "    <tr>\n",
       "      <td>6</td>\n",
       "      <td>7</td>\n",
       "      <td>32.368321</td>\n",
       "    </tr>\n",
       "  </tbody>\n",
       "</table>\n",
       "</div>"
      ],
      "text/plain": [
       "   day_week  duration_min\n",
       "0         1     23.936495\n",
       "1         2     22.780600\n",
       "2         3     22.442992\n",
       "3         4     23.011746\n",
       "4         5     24.221834\n",
       "5         6     32.087017\n",
       "6         7     32.368321"
      ]
     },
     "execution_count": 110,
     "metadata": {},
     "output_type": "execute_result"
    }
   ],
   "source": [
    "df_trips_cust =  df_trips[df_trips.user_type == 'Customer'][['user_type', 'duration_min','day_week']]\n",
    "df_trips_cust_dur_usr = df_trips_cust.groupby('day_week').mean()['duration_min'].to_frame()\n",
    "df_trips_cust_dur_usr.reset_index(level=0, inplace=True)\n",
    "df_trips_cust_dur_usr.columns = ['day_week', 'duration_min']\n",
    "df_trips_cust_dur_usr"
   ]
  },
  {
   "cell_type": "code",
   "execution_count": 114,
   "metadata": {},
   "outputs": [
    {
     "data": {
      "text/plain": [
       "<matplotlib.legend.Legend at 0x1d4e87310c8>"
      ]
     },
     "execution_count": 114,
     "metadata": {},
     "output_type": "execute_result"
    },
    {
     "data": {
      "image/png": "[encoded data removed]",
      "text/plain": [
       "<Figure size 432x288 with 1 Axes>"
      ]
     },
     "metadata": {
      "needs_background": "light"
     },
     "output_type": "display_data"
    }
   ],
   "source": [
    "plt.scatter(data = df_trips_subs_dur_usr, x = 'day_week', y = 'duration_min',label = 'Subscribers')\n",
    "plt.scatter(data = df_trips_cust_dur_usr, x = 'day_week', y = 'duration_min', label = 'Customers')\n",
    "plt.legend()\n"
   ]
  },
  {
   "cell_type": "markdown",
   "metadata": {},
   "source": [
    "> Clearly there´s a difference between both type of users, having higher durations the trips of customers. In both cases the trips are longer during the weekend."
   ]
  },
  {
   "cell_type": "markdown",
   "metadata": {},
   "source": [
    "### Number of trips vs Month vs User\n",
    "\n",
    "> We´re going to certify that there´s a relationship between duration of the trip, the month and the type of user"
   ]
  },
  {
   "cell_type": "code",
   "execution_count": 116,
   "metadata": {},
   "outputs": [
    {
     "data": {
      "text/plain": [
       "<matplotlib.axes._subplots.AxesSubplot at 0x1d3e7ca9e48>"
      ]
     },
     "execution_count": 116,
     "metadata": {},
     "output_type": "execute_result"
    },
    {
     "data": {
      "image/png": "[encoded data removed]",
      "text/plain": [
       "<Figure size 432x288 with 1 Axes>"
      ]
     },
     "metadata": {
      "needs_background": "light"
     },
     "output_type": "display_data"
    }
   ],
   "source": [
    "sb.countplot(data = df_trips, x = 'month', hue = 'user_type')"
   ]
  },
  {
   "cell_type": "markdown",
   "metadata": {},
   "source": [
    "> We can see the number of trips is much higher for subscribers than costumers. "
   ]
  },
  {
   "cell_type": "markdown",
   "metadata": {},
   "source": [
    "### Number of trips vs Weekday vs User\n",
    "\n",
    "> We´re going to certify that there´s a relationship between duration of the trip, the weekday and the type of user\n"
   ]
  },
  {
   "cell_type": "code",
   "execution_count": 115,
   "metadata": {},
   "outputs": [
    {
     "data": {
      "text/plain": [
       "<matplotlib.axes._subplots.AxesSubplot at 0x1d4e873f988>"
      ]
     },
     "execution_count": 115,
     "metadata": {},
     "output_type": "execute_result"
    },
    {
     "data": {
      "image/png": "[encoded data removed]",
      "text/plain": [
       "<Figure size 432x288 with 1 Axes>"
      ]
     },
     "metadata": {
      "needs_background": "light"
     },
     "output_type": "display_data"
    }
   ],
   "source": [
    "sb.countplot(data = df_trips, x = 'day_week', hue = 'user_type')"
   ]
  },
  {
   "cell_type": "markdown",
   "metadata": {},
   "source": [
    "> We can see the number of trips is much higher for subscribers than costumers. While the number of trips is quite constant all the days for customers in the case of subscribers it´s lower during the weekend"
   ]
  },
  {
   "cell_type": "markdown",
   "metadata": {},
   "source": [
    "### Final Conclussions\n",
    "\n",
    "> There are two types of users, subscribers and customers. Subscribers are the users that use the bike on a daily basis, most of them San Francisco citizens, and customers are sporadic users, most of them tourists, and both types behave differently using the bikesharing system.\n",
    "\n",
    "> The duration of the tourists trips are much longer than the ones of the citizens because they use the bike for tourism and for travelling around the city, while the subscribers use it for going to one place to other directly, and during the non weekend days the majority of the trips are from home to job or viceversa. In both cases the duration of the the trips are quite longer during weekends.\n",
    "\n",
    "> The number of trips taken by subscribers and costumers vary a lot, beeing much higher the trips of the citizens along the year. The number of trips for customers is almost constant during the seven years of the week because the number of tourists don´t vary too much between days. On the other hand the trips of subscribers descend a lot during weekends because most of the trips out of the weekend are due to the transport between job and home and viceversa\n",
    "\n",
    "> During the two years per month the subscribers trips are always higher than the costumers but both behave in a similar way, being greater in the middle months of the year and being lower in winter, except from last month analyzed, December 2019, were both have similar number of trips due to a high descend in citizens trips and a high uprise in tourist trips. Probably there´s a reason for this abnomal behaviour."
   ]
  },
  {
   "cell_type": "code",
   "execution_count": null,
   "metadata": {},
   "outputs": [],
   "source": []
  }
 ],
 "metadata": {
  "kernelspec": {
   "display_name": "Python 3",
   "language": "python",
   "name": "python3"
  },
  "language_info": {
   "codemirror_mode": {
    "name": "ipython",
    "version": 3
   },
   "file_extension": ".py",
   "mimetype": "text/x-python",
   "name": "python",
   "nbconvert_exporter": "python",
   "pygments_lexer": "ipython3",
   "version": "3.7.4"
  }
 },
 "nbformat": 4,
 "nbformat_minor": 2
}
